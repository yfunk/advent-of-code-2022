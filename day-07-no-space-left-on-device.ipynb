{
 "cells": [
  {
   "cell_type": "markdown",
   "metadata": {},
   "source": [
    "# 🌟 Advent of Code 2022"
   ]
  },
  {
   "attachments": {},
   "cell_type": "markdown",
   "metadata": {},
   "source": [
    "## Day 7: No Space Left On Device"
   ]
  },
  {
   "attachments": {},
   "cell_type": "markdown",
   "metadata": {},
   "source": [
    "You can hear birds chirping and raindrops hitting leaves as the expedition proceeds. Occasionally, you can even hear much louder sounds in the distance; how big do the animals get out here, anyway?\n",
    "\n",
    "The device the Elves gave you has problems with more than just its communication system. You try to run a system update:\n",
    "\n",
    "```\n",
    "$ system-update --please --pretty-please-with-sugar-on-top\n",
    "Error: No space left on device\n",
    "```\n",
    "\n",
    "Perhaps you can delete some files to make space for the update?\n",
    "\n",
    "You browse around the filesystem to assess the situation and save the resulting terminal output (your puzzle input). For example:\n",
    "\n",
    "```\n",
    "$ cd /\n",
    "$ ls\n",
    "dir a\n",
    "14848514 b.txt\n",
    "8504156 c.dat\n",
    "dir d\n",
    "$ cd a\n",
    "$ ls\n",
    "dir e\n",
    "29116 f\n",
    "2557 g\n",
    "62596 h.lst\n",
    "$ cd e\n",
    "$ ls\n",
    "584 i\n",
    "$ cd ..\n",
    "$ cd ..\n",
    "$ cd d\n",
    "$ ls\n",
    "4060174 j\n",
    "8033020 d.log\n",
    "5626152 d.ext\n",
    "7214296 k\n",
    "```\n",
    "\n",
    "The filesystem consists of a tree of files (plain data) and directories (which can contain other directories or files). The outermost directory is called `/`. You can navigate around the filesystem, moving into or out of directories and listing the contents of the directory you're currently in.\n",
    "\n",
    "Within the terminal output, lines that begin with `$` are commands you executed, very much like some modern computers:\n",
    "\n",
    "- `cd` means change directory. This changes which directory is the current directory, but the specific result depends on the argument:\n",
    "  - `cd x` moves in one level: it looks in the current directory for the directory named `x` and makes it the current directory.\n",
    "  - `cd ..` moves out one level: it finds the directory that contains the current directory, then makes that directory the current directory.\n",
    "  - `cd /` switches the current directory to the outermost directory, `/`.\n",
    "- `ls` means list. It prints out all of the files and directories immediately contained by the current directory:\n",
    "  - `123 abc` means that the current directory contains a file named `abc` with size `123`.\n",
    "  - `dir xyz` means that the current directory contains a directory named `xyz`.\n",
    "\n",
    "Given the commands and output in the example above, you can determine that the filesystem looks visually like this:\n",
    "\n",
    "```\n",
    "- / (dir)\n",
    "  - a (dir)\n",
    "    - e (dir)\n",
    "      - i (file, size=584)\n",
    "    - f (file, size=29116)\n",
    "    - g (file, size=2557)\n",
    "    - h.lst (file, size=62596)\n",
    "  - b.txt (file, size=14848514)\n",
    "  - c.dat (file, size=8504156)\n",
    "  - d (dir)\n",
    "    - j (file, size=4060174)\n",
    "    - d.log (file, size=8033020)\n",
    "    - d.ext (file, size=5626152)\n",
    "    - k (file, size=7214296)\n",
    "```\n",
    "\n",
    "Here, there are four directories: `/` (the outermost directory), `a` and `d` (which are in `/`), and `e` (which is in `a`). These directories also contain files of various sizes.\n",
    "\n",
    "Since the disk is full, your first step should probably be to find directories that are good candidates for deletion. To do this, you need to determine the total size of each directory. The total size of a directory is the sum of the sizes of the files it contains, directly or indirectly. (Directories themselves do not count as having any intrinsic size.)\n",
    "\n",
    "The total sizes of the directories above can be found as follows:\n",
    "\n",
    "- The total size of directory `e` is 584 because it contains a single file `i` of size 584 and no other directories.\n",
    "- The directory `a` has total size 94853 because it contains files `f` (size 29116), `g` (size 2557), and `h.lst` (size 62596), plus file `i` indirectly (`a` contains `e` which contains `i`).\n",
    "- Directory `d` has total size 24933642.\n",
    "- As the outermost directory, `/` contains every file. Its total size is 48381165, the sum of the size of every file.\n",
    "\n",
    "To begin, find all of the directories with a total size of at most 100000, then calculate the sum of their total sizes. In the example above, these directories are `a` and `e`; the sum of their total sizes is `95437` (94853 + 584). (As in this example, this process can count files more than once!)\n",
    "\n",
    "Find all of the directories with a total size of at most 100000. What is the sum of the total sizes of those directories?"
   ]
  },
  {
   "cell_type": "code",
   "execution_count": 1,
   "metadata": {},
   "outputs": [],
   "source": [
    "def parse_filesystem(file):\n",
    "    outputs = file.read().split(\"$ \")\n",
    "\n",
    "    tree = {\"type\": \"dir\", \"name\": \"/\", \"children\": []}\n",
    "    cwd = tree\n",
    "\n",
    "    for output in outputs:\n",
    "        cmd = output[0:2]\n",
    "\n",
    "        # command 'cd'\n",
    "        if(cmd == \"cd\"):\n",
    "            new_dir = output[3:].strip()\n",
    "\n",
    "            if(new_dir == \"..\"):\n",
    "                cwd = cwd[\"parent\"]\n",
    "            elif(new_dir == \"/\"):\n",
    "                cwd = tree\n",
    "            else:\n",
    "                for child in cwd[\"children\"]:\n",
    "                    if(child[\"name\"] == new_dir):\n",
    "                        cwd = child\n",
    "                        break\n",
    "                else:\n",
    "                    cwd[\"children\"].append({\n",
    "                        \"parent\": cwd,\n",
    "                        \"name\": new_dir,\n",
    "                        \"type\": \"dir\",\n",
    "                        \"children\": []\n",
    "                    })\n",
    "                    cwd = cwd[-1]\n",
    "        # command 'ls'\n",
    "        elif(cmd == \"ls\"):\n",
    "            contents = output.strip().split(\"\\n\")[1::]\n",
    "\n",
    "            for content in contents:\n",
    "                type_or_size, name = content.split(\" \")\n",
    "\n",
    "                if(type_or_size == \"dir\"):\n",
    "                    cwd[\"children\"].append({\n",
    "                        \"parent\": cwd,\n",
    "                        \"name\": name,\n",
    "                        \"type\": \"dir\",\n",
    "                        \"children\": []\n",
    "                    })\n",
    "                else:\n",
    "                    cwd[\"children\"].append({\n",
    "                        \"name\": name,\n",
    "                        \"type\": \"file\",\n",
    "                        \"size\": int(type_or_size)\n",
    "                    })\n",
    "\n",
    "    return tree"
   ]
  },
  {
   "cell_type": "code",
   "execution_count": 2,
   "metadata": {},
   "outputs": [],
   "source": [
    "file = open(\"./inputs/day-07.txt\", \"r\")\n",
    "filesystem = parse_filesystem(file)\n",
    "\n",
    "dirs = {}\n",
    "\n",
    "def scan_dirs(dir, path):\n",
    "    size = 0\n",
    "\n",
    "    for element in dir[\"children\"]:\n",
    "        if(element[\"type\"] == \"file\"):\n",
    "            size += element[\"size\"]\n",
    "        elif(element[\"type\"] == \"dir\"):\n",
    "            sub_dir_path = path + element[\"name\"] + \"/\"\n",
    "            sub_dir_size = scan_dirs(element, sub_dir_path)\n",
    "            size += sub_dir_size\n",
    "\n",
    "    dirs[path] = size\n",
    "    return size\n",
    "\n",
    "_ = scan_dirs(filesystem, \"/\")"
   ]
  },
  {
   "cell_type": "code",
   "execution_count": 3,
   "metadata": {},
   "outputs": [
    {
     "name": "stdout",
     "output_type": "stream",
     "text": [
      "The sum of the sizes of all directories with a total size of at most 100000 is '1648397'\n"
     ]
    }
   ],
   "source": [
    "# Challenge 1\n",
    "\n",
    "sum_dir_sizes = 0\n",
    "for dir_size in dirs.values():\n",
    "    if(dir_size <= 100000):\n",
    "        sum_dir_sizes += dir_size\n",
    "\n",
    "print(f\"The sum of the sizes of all directories with a total size of at most 100000 is '{sum_dir_sizes}'\")"
   ]
  },
  {
   "attachments": {},
   "cell_type": "markdown",
   "metadata": {},
   "source": [
    "Now, you're ready to choose a directory to delete.\n",
    "\n",
    "The total disk space available to the filesystem is `70000000`. To run the update, you need unused space of at least `30000000`. You need to find a directory you can delete that will free up enough space to run the update.\n",
    "\n",
    "In the example above, the total size of the outermost directory (and thus the total amount of used space) is `48381165`; this means that the size of the unused space must currently be `21618835`, which isn't quite the `30000000` required by the update. Therefore, the update still requires a directory with total size of at least `8381165` to be deleted before it can run.\n",
    "\n",
    "To achieve this, you have the following options:\n",
    "\n",
    "- Delete directory `e`, which would increase unused space by `584`.\n",
    "- Delete directory `a`, which would increase unused space by `94853`.\n",
    "- Delete directory `d`, which would increase unused space by `24933642`.\n",
    "- Delete directory `/`, which would increase unused space by `48381165`.\n",
    "\n",
    "Directories `e` and `a` are both too small; deleting them would not free up enough space. However, directories `d` and `/` are both big enough! Between these, choose the smallest: `d`, increasing unused space by `24933642`.\n",
    "\n",
    "Find the smallest directory that, if deleted, would free up enough space on the filesystem to run the update. What is the total size of that directory?"
   ]
  },
  {
   "cell_type": "code",
   "execution_count": 4,
   "metadata": {},
   "outputs": [
    {
     "name": "stdout",
     "output_type": "stream",
     "text": [
      "The size of the smallest directory to delete, in order to free up enough space for the update, is '1815525'\n"
     ]
    }
   ],
   "source": [
    "# Challenge 2\n",
    "\n",
    "needed_space = 30000000 - (70000000 - dirs[\"/\"])\n",
    "smallest_dir_to_delete_size = 999999999\n",
    "\n",
    "for dir_size in dirs.values():\n",
    "    if(dir_size >= needed_space and dir_size < smallest_dir_to_delete_size):\n",
    "        smallest_dir_to_delete_size = dir_size\n",
    "\n",
    "print(f\"The size of the smallest directory to delete, in order to free up enough space for the update, is '{smallest_dir_to_delete_size}'\")"
   ]
  },
  {
   "attachments": {},
   "cell_type": "markdown",
   "metadata": {},
   "source": [
    "## Improved Solution"
   ]
  },
  {
   "cell_type": "code",
   "execution_count": 5,
   "metadata": {},
   "outputs": [
    {
     "name": "stdout",
     "output_type": "stream",
     "text": [
      "[Challenge 1] The sum of the sizes of all directories with a total size of at most 100000 is '1648397'\n",
      "[Challenge 2] The size of the smallest directory to delete, in order to free up enough space for the update, is '1815525'\n"
     ]
    }
   ],
   "source": [
    "from collections import defaultdict\n",
    "\n",
    "file = open(\"./inputs/day-07.txt\", \"r\")\n",
    "lines = [ x for x in file.read().strip().split(\"\\n\") ]\n",
    "\n",
    "# build list of directories directly instead of parsing filesystem tree\n",
    "directories = defaultdict(int) # dict that aromatically creates new 'int' (0) entries for missing keys\n",
    "path = []\n",
    "\n",
    "for line in lines:\n",
    "    words = line.strip().split()\n",
    "\n",
    "    if(words[1] == \"cd\"):\n",
    "        if(words[2] == \"..\"):\n",
    "            path.pop()\n",
    "        elif(words[2] == \"/\"):\n",
    "            path = []\n",
    "        else:\n",
    "            path.append(words[2])\n",
    "    elif(words[1] == \"ls\"):\n",
    "        continue;\n",
    "    else: # line is output of ls\n",
    "        if(words[0] == \"dir\"):\n",
    "            continue;\n",
    "        else: # line is output of ls with file\n",
    "            size = int(words[0])\n",
    "            # add size to dir and all parent directories\n",
    "            for i in range(len(path) + 1):\n",
    "                directories[\"/\".join(path[:i])] += size\n",
    "\n",
    "# Challenge 1\n",
    "\n",
    "sum_dir_sizes = sum(size for size in directories.values() if size <= 100000)\n",
    "\n",
    "print(f\"[Challenge 1] The sum of the sizes of all directories with a total size of at most 100000 is '{sum_dir_sizes}'\")\n",
    "\n",
    "# Challenge 2\n",
    "\n",
    "needed_space = 30000000 - (70000000 - dirs[\"/\"])\n",
    "smallest_dir_to_delete_size = min(size for size in directories.values() if size >= needed_space)\n",
    "\n",
    "print(f\"[Challenge 2] The size of the smallest directory to delete, in order to free up enough space for the update, is '{smallest_dir_to_delete_size}'\")"
   ]
  }
 ],
 "metadata": {
  "kernelspec": {
   "display_name": "Python 3.9.8 64-bit",
   "language": "python",
   "name": "python3"
  },
  "language_info": {
   "codemirror_mode": {
    "name": "ipython",
    "version": 3
   },
   "file_extension": ".py",
   "mimetype": "text/x-python",
   "name": "python",
   "nbconvert_exporter": "python",
   "pygments_lexer": "ipython3",
   "version": "3.9.8"
  },
  "orig_nbformat": 4,
  "vscode": {
   "interpreter": {
    "hash": "6c822c96e91247aa88aa050c21c3cf4338cecd35fe4765b117b1af47ffe54c4d"
   }
  }
 },
 "nbformat": 4,
 "nbformat_minor": 2
}
