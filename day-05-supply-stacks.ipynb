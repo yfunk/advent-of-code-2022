{
 "cells": [
  {
   "cell_type": "markdown",
   "metadata": {},
   "source": [
    "# 🌟 Advent of Code 2022"
   ]
  },
  {
   "cell_type": "markdown",
   "metadata": {},
   "source": [
    "## Day 5: Supply Stacks"
   ]
  },
  {
   "cell_type": "markdown",
   "metadata": {},
   "source": [
    "The expedition can depart as soon as the final supplies have been unloaded from the ships. Supplies are stored in stacks of marked crates, but because the needed supplies are buried under many other crates, the crates need to be rearranged.\n",
    "\n",
    "The ship has a giant cargo crane capable of moving crates between stacks. To ensure none of the crates get crushed or fall over, the crane operator will rearrange them in a series of carefully-planned steps. After the crates are rearranged, the desired crates will be at the top of each stack.\n",
    "\n",
    "The Elves don't want to interrupt the crane operator during this delicate procedure, but they forgot to ask her which crate will end up where, and they want to be ready to unload them as soon as possible so they can embark.\n",
    "\n",
    "They do, however, have a drawing of the starting stacks of crates and the rearrangement procedure (your puzzle input). For example:\n",
    "\n",
    "```\n",
    "    [D]    \n",
    "[N] [C]    \n",
    "[Z] [M] [P]\n",
    " 1   2   3 \n",
    "\n",
    "move 1 from 2 to 1\n",
    "move 3 from 1 to 3\n",
    "move 2 from 2 to 1\n",
    "move 1 from 1 to 2\n",
    "```\n",
    "\n",
    "In this example, there are three stacks of crates. Stack 1 contains two crates: crate Z is on the bottom, and crate `N` is on top. Stack 2 contains three crates; from bottom to top, they are crates `M`, `C`, and `D`. Finally, stack 3 contains a single crate, `P`.\n",
    "\n",
    "Then, the rearrangement procedure is given. In each step of the procedure, a quantity of crates is moved from one stack to a different stack. In the first step of the above rearrangement procedure, one crate is moved from stack 2 to stack 1, resulting in this configuration:\n",
    "\n",
    "```\n",
    "[D]        \n",
    "[N] [C]    \n",
    "[Z] [M] [P]\n",
    " 1   2   3 \n",
    "```\n",
    "\n",
    "In the second step, three crates are moved from stack 1 to stack 3. Crates are moved one at a time, so the first crate to be moved (`D`) ends up below the second and third crates:\n",
    "\n",
    "```\n",
    "        [Z]\n",
    "        [N]\n",
    "    [C] [D]\n",
    "    [M] [P]\n",
    " 1   2   3\n",
    "```\n",
    "\n",
    "Then, both crates are moved from stack 2 to stack 1. Again, because crates are moved one at a time, crate `C` ends up below crate `M`:\n",
    "\n",
    "```\n",
    "        [Z]\n",
    "        [N]\n",
    "[M]     [D]\n",
    "[C]     [P]\n",
    " 1   2   3\n",
    "```\n",
    "\n",
    "Finally, one crate is moved from stack 1 to stack 2:\n",
    "\n",
    "```\n",
    "        [Z]\n",
    "        [N]\n",
    "        [D]\n",
    "[C] [M] [P]\n",
    " 1   2   3\n",
    "```\n",
    "\n",
    "The Elves just need to know which crate will end up on top of each stack; in this example, the top crates are `C` in stack 1, `M` in stack 2, and `Z` in stack 3, so you should combine these together and give the Elves the message `CMZ`.\n",
    "\n",
    "After the rearrangement procedure completes, what crate ends up on top of each stack?"
   ]
  },
  {
   "cell_type": "code",
   "execution_count": 80,
   "metadata": {},
   "outputs": [],
   "source": [
    "# helper methods here\n",
    "def parse_manual(file):\n",
    "    stacks_input, guide_input = file.read().split(\"\\n\\n\")\n",
    "\n",
    "    # parse stacks_input to stacks\n",
    "    stack_count = int(stacks_input.split(\"\\n\")[-1][-1]) # number of last stack\n",
    "\n",
    "    stacks = [[]] * stack_count\n",
    "\n",
    "    print(stacks)\n",
    "    \n",
    "    for line in (stacks_input.split(\"\\n\")[::-1])[1::]:\n",
    "        j = 0\n",
    "        for i in range(1, len(line), 4):\n",
    "            if(line[i] != \" \"):\n",
    "                stacks[j].append(line[i])\n",
    "            j += 1    \n",
    "\n",
    "    print(stacks)   \n",
    "\n",
    "    # parse guide\n",
    "    guide = []\n",
    "    for line in (guide_input.split(\"\\n\")):\n",
    "        data = line.split(\" \")\n",
    "        guide.append({ \"count\": int(data[1]), \"from\": int(data[3]), \"to\": int(data[5]) })\n",
    "\n",
    "    return [stacks, guide]\n",
    "\n",
    "def deep_copy(list):\n",
    "    return [x[:] for x in list]\n",
    "\n",
    "def top_of_stacks(stacks):\n",
    "    top_of_stacks = \"\"\n",
    "\n",
    "    for stack in stacks:\n",
    "        top_of_stacks += str(stack[-1])\n",
    "        \n",
    "    return top_of_stacks"
   ]
  },
  {
   "cell_type": "code",
   "execution_count": 81,
   "metadata": {},
   "outputs": [
    {
     "name": "stdout",
     "output_type": "stream",
     "text": [
      "[[], [], [], [], [], [], [], [], []]\n",
      "[['B', 'R', 'B', 'C', 'D', 'H', 'D', 'C', 'N', 'Q', 'Q', 'M', 'Z', 'Z', 'N', 'G', 'G', 'J', 'C', 'W', 'R', 'H', 'H', 'P', 'T', 'M', 'B', 'Z', 'L', 'V', 'B', 'C', 'R', 'N', 'M', 'V', 'T', 'N', 'J', 'W', 'B', 'W', 'W', 'V', 'F', 'Z', 'W', 'Q', 'G', 'V', 'S', 'Z', 'F', 'Q', 'P', 'P'], ['B', 'R', 'B', 'C', 'D', 'H', 'D', 'C', 'N', 'Q', 'Q', 'M', 'Z', 'Z', 'N', 'G', 'G', 'J', 'C', 'W', 'R', 'H', 'H', 'P', 'T', 'M', 'B', 'Z', 'L', 'V', 'B', 'C', 'R', 'N', 'M', 'V', 'T', 'N', 'J', 'W', 'B', 'W', 'W', 'V', 'F', 'Z', 'W', 'Q', 'G', 'V', 'S', 'Z', 'F', 'Q', 'P', 'P'], ['B', 'R', 'B', 'C', 'D', 'H', 'D', 'C', 'N', 'Q', 'Q', 'M', 'Z', 'Z', 'N', 'G', 'G', 'J', 'C', 'W', 'R', 'H', 'H', 'P', 'T', 'M', 'B', 'Z', 'L', 'V', 'B', 'C', 'R', 'N', 'M', 'V', 'T', 'N', 'J', 'W', 'B', 'W', 'W', 'V', 'F', 'Z', 'W', 'Q', 'G', 'V', 'S', 'Z', 'F', 'Q', 'P', 'P'], ['B', 'R', 'B', 'C', 'D', 'H', 'D', 'C', 'N', 'Q', 'Q', 'M', 'Z', 'Z', 'N', 'G', 'G', 'J', 'C', 'W', 'R', 'H', 'H', 'P', 'T', 'M', 'B', 'Z', 'L', 'V', 'B', 'C', 'R', 'N', 'M', 'V', 'T', 'N', 'J', 'W', 'B', 'W', 'W', 'V', 'F', 'Z', 'W', 'Q', 'G', 'V', 'S', 'Z', 'F', 'Q', 'P', 'P'], ['B', 'R', 'B', 'C', 'D', 'H', 'D', 'C', 'N', 'Q', 'Q', 'M', 'Z', 'Z', 'N', 'G', 'G', 'J', 'C', 'W', 'R', 'H', 'H', 'P', 'T', 'M', 'B', 'Z', 'L', 'V', 'B', 'C', 'R', 'N', 'M', 'V', 'T', 'N', 'J', 'W', 'B', 'W', 'W', 'V', 'F', 'Z', 'W', 'Q', 'G', 'V', 'S', 'Z', 'F', 'Q', 'P', 'P'], ['B', 'R', 'B', 'C', 'D', 'H', 'D', 'C', 'N', 'Q', 'Q', 'M', 'Z', 'Z', 'N', 'G', 'G', 'J', 'C', 'W', 'R', 'H', 'H', 'P', 'T', 'M', 'B', 'Z', 'L', 'V', 'B', 'C', 'R', 'N', 'M', 'V', 'T', 'N', 'J', 'W', 'B', 'W', 'W', 'V', 'F', 'Z', 'W', 'Q', 'G', 'V', 'S', 'Z', 'F', 'Q', 'P', 'P'], ['B', 'R', 'B', 'C', 'D', 'H', 'D', 'C', 'N', 'Q', 'Q', 'M', 'Z', 'Z', 'N', 'G', 'G', 'J', 'C', 'W', 'R', 'H', 'H', 'P', 'T', 'M', 'B', 'Z', 'L', 'V', 'B', 'C', 'R', 'N', 'M', 'V', 'T', 'N', 'J', 'W', 'B', 'W', 'W', 'V', 'F', 'Z', 'W', 'Q', 'G', 'V', 'S', 'Z', 'F', 'Q', 'P', 'P'], ['B', 'R', 'B', 'C', 'D', 'H', 'D', 'C', 'N', 'Q', 'Q', 'M', 'Z', 'Z', 'N', 'G', 'G', 'J', 'C', 'W', 'R', 'H', 'H', 'P', 'T', 'M', 'B', 'Z', 'L', 'V', 'B', 'C', 'R', 'N', 'M', 'V', 'T', 'N', 'J', 'W', 'B', 'W', 'W', 'V', 'F', 'Z', 'W', 'Q', 'G', 'V', 'S', 'Z', 'F', 'Q', 'P', 'P'], ['B', 'R', 'B', 'C', 'D', 'H', 'D', 'C', 'N', 'Q', 'Q', 'M', 'Z', 'Z', 'N', 'G', 'G', 'J', 'C', 'W', 'R', 'H', 'H', 'P', 'T', 'M', 'B', 'Z', 'L', 'V', 'B', 'C', 'R', 'N', 'M', 'V', 'T', 'N', 'J', 'W', 'B', 'W', 'W', 'V', 'F', 'Z', 'W', 'Q', 'G', 'V', 'S', 'Z', 'F', 'Q', 'P', 'P']]\n"
     ]
    }
   ],
   "source": [
    "file = open(\"./inputs/day-05.txt\", \"r\")\n",
    "initial_stacks, guide = parse_manual(file)"
   ]
  },
  {
   "cell_type": "code",
   "execution_count": 82,
   "metadata": {},
   "outputs": [
    {
     "name": "stdout",
     "output_type": "stream",
     "text": [
      "After the CrateMover 9000 rearrangement procedure completes, 'SPZSPFFVF' are the tops of all stacks.\n"
     ]
    }
   ],
   "source": [
    "# Challenge 1\n",
    "\n",
    "stacks = deep_copy(initial_stacks)\n",
    "\n",
    "for move in guide:\n",
    "    for i in range(move[\"count\"]):\n",
    "        stacks[move[\"to\"] - 1].append(stacks[move[\"from\"] - 1].pop())\n",
    "\n",
    "print(f\"After the CrateMover 9000 rearrangement procedure completes, '{top_of_stacks(stacks)}' are the tops of all stacks.\")"
   ]
  },
  {
   "cell_type": "markdown",
   "metadata": {},
   "source": [
    "As you watch the crane operator expertly rearrange the crates, you notice the process isn't following your prediction.\n",
    "\n",
    "Some mud was covering the writing on the side of the crane, and you quickly wipe it away. The crane isn't a CrateMover 9000 - it's a CrateMover 9001.\n",
    "\n",
    "The CrateMover 9001 is notable for many new and exciting features: air conditioning, leather seats, an extra cup holder, and the ability to pick up and move multiple crates at once.\n",
    "\n",
    "Again considering the example above, the crates begin in the same configuration:\n",
    "\n",
    "```\n",
    "    [D]    \n",
    "[N] [C]    \n",
    "[Z] [M] [P]\n",
    " 1   2   3\n",
    "```\n",
    "\n",
    "Moving a single crate from stack 2 to stack 1 behaves the same as before:\n",
    "\n",
    "```\n",
    "[D]        \n",
    "[N] [C]    \n",
    "[Z] [M] [P]\n",
    " 1   2   3\n",
    "```\n",
    "\n",
    "However, the action of moving three crates from stack 1 to stack 3 means that those three moved crates stay in the same order, resulting in this new configuration:\n",
    "\n",
    "```\n",
    "        [D]\n",
    "        [N]\n",
    "    [C] [Z]\n",
    "    [M] [P]\n",
    " 1   2   3\n",
    "```\n",
    "\n",
    "Next, as both crates are moved from stack 2 to stack 1, they retain their order as well:\n",
    "\n",
    "```\n",
    "        [D]\n",
    "        [N]\n",
    "[C]     [Z]\n",
    "[M]     [P]\n",
    " 1   2   3\n",
    "```\n",
    "\n",
    "Finally, a single crate is still moved from stack 1 to stack 2, but now it's crate C that gets moved:\n",
    "\n",
    "```\n",
    "        [D]\n",
    "        [N]\n",
    "        [Z]\n",
    "[M] [C] [P]\n",
    " 1   2   3\n",
    "```\n",
    "\n",
    "In this example, the CrateMover 9001 has put the crates in a totally different order: `MCD`.\n",
    "\n",
    "Before the rearrangement process finishes, update your simulation so that the Elves know where they should stand to be ready to unload the final supplies. After the rearrangement procedure completes, what crate ends up on top of each stack?"
   ]
  },
  {
   "cell_type": "code",
   "execution_count": 83,
   "metadata": {},
   "outputs": [
    {
     "name": "stdout",
     "output_type": "stream",
     "text": [
      "After the CrateMover 9001 rearrangement procedure completes, 'QGQPSQZSQ' are the tops of all stacks.\n"
     ]
    }
   ],
   "source": [
    "# Challenge 2\n",
    "\n",
    "stacks = deep_copy(initial_stacks)\n",
    "\n",
    "for move in guide:\n",
    "    buffer = []\n",
    "    for i in range(move[\"count\"]):\n",
    "        buffer.append(stacks[move[\"from\"] - 1].pop())\n",
    "\n",
    "    for element in reversed(buffer):\n",
    "        stacks[move[\"to\"] - 1].append(element)\n",
    "        \n",
    "print(f\"After the CrateMover 9001 rearrangement procedure completes, '{top_of_stacks(stacks)}' are the tops of all stacks.\")"
   ]
  }
 ],
 "metadata": {
  "kernelspec": {
   "display_name": "Python 3.9.8 64-bit",
   "language": "python",
   "name": "python3"
  },
  "language_info": {
   "codemirror_mode": {
    "name": "ipython",
    "version": 3
   },
   "file_extension": ".py",
   "mimetype": "text/x-python",
   "name": "python",
   "nbconvert_exporter": "python",
   "pygments_lexer": "ipython3",
   "version": "3.9.8"
  },
  "orig_nbformat": 4,
  "vscode": {
   "interpreter": {
    "hash": "6c822c96e91247aa88aa050c21c3cf4338cecd35fe4765b117b1af47ffe54c4d"
   }
  }
 },
 "nbformat": 4,
 "nbformat_minor": 2
}
