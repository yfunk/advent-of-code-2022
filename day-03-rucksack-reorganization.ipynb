{
 "cells": [
  {
   "cell_type": "markdown",
   "metadata": {},
   "source": [
    "# 🌟 Advent of Code 2022"
   ]
  },
  {
   "cell_type": "markdown",
   "metadata": {},
   "source": [
    "## Day 3: Rucksack Reorganization"
   ]
  },
  {
   "cell_type": "markdown",
   "metadata": {},
   "source": [
    "One Elf has the important job of loading all of the rucksacks with supplies for the jungle journey. Unfortunately, that Elf didn't quite follow the packing instructions, and so a few items now need to be rearranged.\n",
    "\n",
    "Each rucksack has two large compartments. All items of a given type are meant to go into exactly one of the two compartments. The Elf that did the packing failed to follow this rule for exactly one item type per rucksack.\n",
    "\n",
    "The Elves have made a list of all of the items currently in each rucksack (your puzzle input), but they need your help finding the errors. Every item type is identified by a single lowercase or uppercase letter (that is, `a` and `A` refer to different types of items).\n",
    "\n",
    "The list of items for each rucksack is given as characters all on a single line. A given rucksack always has the same number of items in each of its two compartments, so the first half of the characters represent items in the first compartment, while the second half of the characters represent items in the second compartment.\n",
    "\n",
    "For example, suppose you have the following list of contents from six rucksacks:\n",
    "\n",
    "```\n",
    "vJrwpWtwJgWrhcsFMMfFFhFp\n",
    "jqHRNqRjqzjGDLGLrsFMfFZSrLrFZsSL\n",
    "PmmdzqPrVvPwwTWBwg\n",
    "wMqvLMZHhHMvwLHjbvcjnnSBnvTQFn\n",
    "ttgJtRGJQctTZtZT\n",
    "CrZsJsPPZsGzwwsLwLmpwMDw\n",
    "```\n",
    "\n",
    "- The first rucksack contains the items `vJrwpWtwJgWrhcsFMMfFFhFp`, which means its first compartment contains the items `vJrwpWtwJgWr`, while the second compartment contains the items `hcsFMMfFFhFp`. The only item type that appears in both compartments is lowercase `p`.\n",
    "- The second rucksack's compartments contain `jqHRNqRjqzjGDLGL` and `rsFMfFZSrLrFZsSL`. The only item type that appears in both compartments is uppercase `L`.\n",
    "- The third rucksack's compartments contain `PmmdzqPrV` and `vPwwTWBwg`; the only common item type is uppercase `P`.\n",
    "- The fourth rucksack's compartments only share item type `v`.\n",
    "- The fifth rucksack's compartments only share item type `t`.\n",
    "- The sixth rucksack's compartments only share item type `s`.\n",
    "\n",
    "To help prioritize item rearrangement, every item type can be converted to a priority:\n",
    "\n",
    "- Lowercase item types `a` through `z` have priorities `1` through `26`.\n",
    "- Uppercase item types `A` through `Z` have priorities `27` through `52`.\n",
    "\n",
    "In the above example, the priority of the item type that appears in both compartments of each rucksack is 16 (`p`), 38 (`L`), 42 (`P`), 22 (`v`), 20 (`t`), and 19 (`s`); the sum of these is 157.\n",
    "\n",
    "Find the item type that appears in both compartments of each rucksack. What is the sum of the priorities of those item types?"
   ]
  },
  {
   "cell_type": "code",
   "execution_count": 1,
   "metadata": {},
   "outputs": [],
   "source": [
    "# split rucksacks items into two compartments\n",
    "def parse_rucksacks(file):\n",
    "    rucksacks = []\n",
    "\n",
    "    for line in file:\n",
    "        line = line.strip(\"\\n\")\n",
    "        rucksacks.append([line[:len(line)//2], line[len(line)//2:]])\n",
    "\n",
    "    return rucksacks\n",
    "    \n",
    "# priority for an item (a-z and A-Z)\n",
    "def item_priority(item):\n",
    "    if item.islower():\n",
    "        return ord(item) - 96\n",
    "    else:\n",
    "        return ord(item) - 65 + 27"
   ]
  },
  {
   "cell_type": "code",
   "execution_count": 2,
   "metadata": {},
   "outputs": [],
   "source": [
    "file = open(\"./inputs/day-03.txt\", \"r\")\n",
    "rucksacks = parse_rucksacks(file)"
   ]
  },
  {
   "cell_type": "code",
   "execution_count": 3,
   "metadata": {},
   "outputs": [
    {
     "name": "stdout",
     "output_type": "stream",
     "text": [
      "The sum of the priorities of all duplicate items is 7903.\n"
     ]
    }
   ],
   "source": [
    "# Challenge 1\n",
    "\n",
    "sum_priority_duplicates = 0\n",
    "\n",
    "for rucksack in rucksacks:\n",
    "    for item in rucksack[0]:\n",
    "        if item in rucksack[1]:\n",
    "            # duplicate item found (at most one per rucksack)\n",
    "            sum_priority_duplicates += item_priority(item)\n",
    "            break;\n",
    "\n",
    "print(f\"The sum of the priorities of all duplicate items is {sum_priority_duplicates}.\")"
   ]
  },
  {
   "cell_type": "markdown",
   "metadata": {},
   "source": [
    "As you finish identifying the misplaced items, the Elves come to you with another issue.\n",
    "\n",
    "For safety, the Elves are divided into groups of three. Every Elf carries a badge that identifies their group. For efficiency, within each group of three Elves, the badge is the only item type carried by all three Elves. That is, if a group's badge is item type `B`, then all three Elves will have item type `B` somewhere in their rucksack, and at most two of the Elves will be carrying any other item type.\n",
    "\n",
    "The problem is that someone forgot to put this year's updated authenticity sticker on the badges. All of the badges need to be pulled out of the rucksacks so the new authenticity stickers can be attached.\n",
    "\n",
    "Additionally, nobody wrote down which item type corresponds to each group's badges. The only way to tell which item type is the right one is by finding the one item type that is common between all three Elves in each group.\n",
    "\n",
    "Every set of three lines in your list corresponds to a single group, but each group can have a different badge item type. So, in the above example, the first group's rucksacks are the first three lines:\n",
    "\n",
    "```\n",
    "vJrwpWtwJgWrhcsFMMfFFhFp\n",
    "jqHRNqRjqzjGDLGLrsFMfFZSrLrFZsSL\n",
    "PmmdzqPrVvPwwTWBwg\n",
    "```\n",
    "\n",
    "And the second group's rucksacks are the next three lines:\n",
    "\n",
    "```\n",
    "wMqvLMZHhHMvwLHjbvcjnnSBnvTQFn\n",
    "ttgJtRGJQctTZtZT\n",
    "CrZsJsPPZsGzwwsLwLmpwMDw\n",
    "```\n",
    "\n",
    "In the first group, the only item type that appears in all three rucksacks is lowercase `r`; this must be their badges. In the second group, their badge item type must be `Z`.\n",
    "\n",
    "Priorities for these items must still be found to organize the sticker attachment efforts: here, they are 18 (`r`) for the first group and 52 (`Z`) for the second group. The sum of these is 70.\n",
    "\n",
    "Find the item type that corresponds to the badges of each three-Elf group. What is the sum of the priorities of those item types?"
   ]
  },
  {
   "cell_type": "code",
   "execution_count": 4,
   "metadata": {},
   "outputs": [
    {
     "name": "stdout",
     "output_type": "stream",
     "text": [
      "The sum of the priorities of all badges is 2548.\n"
     ]
    }
   ],
   "source": [
    "# Challenge 2\n",
    "\n",
    "sum_priority_badges = 0\n",
    "\n",
    "# iterate over rucksacks in groups of three\n",
    "for i in range(0, len(rucksacks), 3):\n",
    "    # combine compartments again\n",
    "    rucksack_1 = rucksacks[i][0] + rucksacks[i][1]\n",
    "    rucksack_2 = rucksacks[i + 1][0] + rucksacks[i + 1][1]\n",
    "    rucksack_3 = rucksacks[i + 2][0] + rucksacks[i + 2][1]\n",
    "\n",
    "    for item in rucksack_1:\n",
    "        if item in rucksack_2 and item in rucksack_3:\n",
    "            # badge item found\n",
    "            sum_priority_badges += item_priority(item)\n",
    "            break\n",
    "\n",
    "print(f\"The sum of the priorities of all badges is {sum_priority_badges}.\")"
   ]
  },
  {
   "cell_type": "markdown",
   "metadata": {},
   "source": [
    "## Improved solution"
   ]
  },
  {
   "cell_type": "code",
   "execution_count": 5,
   "metadata": {},
   "outputs": [
    {
     "name": "stdout",
     "output_type": "stream",
     "text": [
      "[Challenge 1] The sum of the priorities of all duplicate items is 7903.\n",
      "[Challenge 2] The sum of the priorities of all badges is 2548.\n"
     ]
    }
   ],
   "source": [
    "def parse_rucksacks(file):\n",
    "    # only do minimal processing for inputs (don't split out rucksack compartments)\n",
    "    return file.read().split()\n",
    "    \n",
    "def item_priority(item):\n",
    "    if item.islower():\n",
    "        return ord(item) - ord('a') + 1 # subtract `ord('a')` instead of magic number\n",
    "    else:\n",
    "        return ord(item) - ord('A') + 27\n",
    "\n",
    "\n",
    "file = open(\"./inputs/day-03.txt\", \"r\")\n",
    "rucksacks = parse_rucksacks(file)\n",
    "\n",
    "# Challenge 1\n",
    "\n",
    "sum_priority_duplicates = 0\n",
    "for rucksack in rucksacks:\n",
    "    middle = len(rucksack) // 2 # double division operator return floored int value\n",
    "    # use python 'set' datatype (unordered, unindexed, no duplicates)\n",
    "    # intersection of two ore more sets can be determined with `&` operator\n",
    "    duplicate, = set(rucksack[:middle]) & set(rucksack[middle:]) # `var,` will destruct the set into single variable\n",
    "    sum_priority_duplicates += item_priority(duplicate) \n",
    "\n",
    "print(f\"[Challenge 1] The sum of the priorities of all duplicate items is {sum_priority_duplicates}.\")\n",
    "\n",
    "# Challenge 2\n",
    "\n",
    "sum_priority_badges = 0\n",
    "for i in range(0, len(rucksacks), 3):\n",
    "    rucksack_1, rucksack_2, rucksack_3 = rucksacks[i:i + 3] # select subset of rucksacks and destruct\n",
    "    badge, = set(rucksack_1) & set(rucksack_2) & set(rucksack_3)\n",
    "    sum_priority_badges += item_priority(badge)\n",
    "\n",
    "print(f\"[Challenge 2] The sum of the priorities of all badges is {sum_priority_badges}.\")\n"
   ]
  }
 ],
 "metadata": {
  "kernelspec": {
   "display_name": "Python 3.9.8 64-bit",
   "language": "python",
   "name": "python3"
  },
  "language_info": {
   "codemirror_mode": {
    "name": "ipython",
    "version": 3
   },
   "file_extension": ".py",
   "mimetype": "text/x-python",
   "name": "python",
   "nbconvert_exporter": "python",
   "pygments_lexer": "ipython3",
   "version": "3.9.8"
  },
  "orig_nbformat": 4,
  "vscode": {
   "interpreter": {
    "hash": "6c822c96e91247aa88aa050c21c3cf4338cecd35fe4765b117b1af47ffe54c4d"
   }
  }
 },
 "nbformat": 4,
 "nbformat_minor": 2
}
