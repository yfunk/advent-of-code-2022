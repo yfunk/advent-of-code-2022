{
 "cells": [
  {
   "cell_type": "markdown",
   "metadata": {},
   "source": [
    "# ❄ Advent of Code 2022"
   ]
  },
  {
   "cell_type": "markdown",
   "metadata": {},
   "source": [
    "## Day 1: Calorie Counting"
   ]
  },
  {
   "cell_type": "markdown",
   "metadata": {},
   "source": [
    "Santa's reindeer typically eat regular reindeer food, but they need a lot of magical energy to deliver presents on Christmas. For that, their favorite snack is a special type of star fruit that only grows deep in the jungle. The Elves have brought you on their annual expedition to the grove where the fruit grows.\n",
    "\n",
    "To supply enough magical energy, the expedition needs to retrieve a minimum of fifty stars by December 25th. Although the Elves assure you that the grove has plenty of fruit, you decide to grab any fruit you see along the way, just in case.\n",
    "\n",
    "Collect stars by solving puzzles. Two puzzles will be made available on each day in the Advent calendar; the second puzzle is unlocked when you complete the first. Each puzzle grants one star. Good luck!\n",
    "\n",
    "The jungle must be too overgrown and difficult to navigate in vehicles or access from the air; the Elves' expedition traditionally goes on foot. As your boats approach land, the Elves begin taking inventory of their supplies. One important consideration is food - in particular, the number of Calories each Elf is carrying (your puzzle input).\n",
    "\n",
    "The Elves take turns writing down the number of Calories contained by the various meals, snacks, rations, etc. that they've brought with them, one item per line. Each Elf separates their own inventory from the previous Elf's inventory (if any) by a blank line.\n",
    "\n",
    "For example, suppose the Elves finish writing their items' Calories and end up with the following list:\n",
    "\n",
    "```\n",
    "1000\n",
    "2000\n",
    "3000\n",
    "\n",
    "4000\n",
    "\n",
    "5000\n",
    "6000\n",
    "\n",
    "7000\n",
    "8000\n",
    "9000\n",
    "\n",
    "10000\n",
    "```\n",
    "\n",
    "This list represents the Calories of the food carried by five Elves:\n",
    "\n",
    "- The first Elf is carrying food with `1000`, `2000`, and `3000` Calories, a total of `6000` Calories.\n",
    "- The second Elf is carrying one food item with `4000` Calories.\n",
    "- The third Elf is carrying food with `5000` and `6000` Calories, a total of `11000` Calories.\n",
    "- The fourth Elf is carrying food with `7000`, `8000`, and `9000` Calories, a total of `24000` Calories.\n",
    "- The fifth Elf is carrying one food item with `10000` Calories.\n",
    "\n",
    "In case the Elves get hungry and need extra snacks, they need to know which Elf to ask: they'd like to know how many Calories are being carried by the Elf carrying the most Calories. In the example above, this is `24000` (carried by the fourth Elf).\n",
    "\n",
    "Find the Elf carrying the most Calories. How many total Calories is that Elf carrying?"
   ]
  },
  {
   "cell_type": "code",
   "execution_count": 4,
   "metadata": {},
   "outputs": [],
   "source": [
    "# parse list of elves with their number and total calories carried\n",
    "def parse_elf_list(file):\n",
    "    elves = []\n",
    "    elf_number = 1\n",
    "    elf_calories = 0\n",
    "\n",
    "    for line in file:\n",
    "        if (line != \"\\n\"):\n",
    "            elf_calories += int(line)\n",
    "        else:\n",
    "            elves.append({\"elf\": elf_number, \"calories\": elf_calories})\n",
    "\n",
    "            elf_number += 1\n",
    "            elf_calories = 0\n",
    "\n",
    "    return elves\n",
    "\n",
    "# rank list of elves by total calories carried\n",
    "def rank_elves(elves):\n",
    "    return sorted(elves, key=lambda elf: elf[\"calories\"], reverse=True)"
   ]
  },
  {
   "cell_type": "code",
   "execution_count": 5,
   "metadata": {},
   "outputs": [
    {
     "name": "stdout",
     "output_type": "stream",
     "text": [
      "The Elf carrying the most calories is Elf 26 with 70764 calories.\n"
     ]
    }
   ],
   "source": [
    "# Challenge 1\n",
    "\n",
    "file = open(\"./inputs/day-01/calories.txt\", \"r\")\n",
    "elves = parse_elf_list(file)\n",
    "\n",
    "ranking = rank_elves(elves)\n",
    "print(f\"The Elf carrying the most calories is Elf {ranking[0]['elf']} with {ranking[0]['calories']} calories.\")"
   ]
  },
  {
   "cell_type": "markdown",
   "metadata": {},
   "source": [
    "By the time you calculate the answer to the Elves' question, they've already realized that the Elf carrying the most Calories of food might eventually run out of snacks.\n",
    "\n",
    "To avoid this unacceptable situation, the Elves would instead like to know the total Calories carried by the top three Elves carrying the most Calories. That way, even if one of those Elves runs out of snacks, they still have two backups.\n",
    "\n",
    "In the example above, the top three Elves are the fourth Elf (with `24000` Calories), then the third Elf (with `11000` Calories), then the fifth Elf (with `10000` Calories). The sum of the Calories carried by these three elves is `45000`.\n",
    "\n",
    "Find the top three Elves carrying the most Calories. How many Calories are those Elves carrying in total?"
   ]
  },
  {
   "cell_type": "code",
   "execution_count": 6,
   "metadata": {},
   "outputs": [
    {
     "name": "stdout",
     "output_type": "stream",
     "text": [
      "#1: Elf 26 with 70764 calories.\n",
      "#2: Elf 179 with 67568 calories.\n",
      "#3: Elf 39 with 65573 calories.\n",
      "Total of Top 3: 203905 calories.\n"
     ]
    }
   ],
   "source": [
    "# Challenge 2\n",
    "\n",
    "file = open(\"./inputs/day-01/calories.txt\", \"r\")\n",
    "elves = parse_elf_list(file)\n",
    "\n",
    "ranking = rank_elves(elves)\n",
    "\n",
    "top_3_total = 0\n",
    "for i in range(3):\n",
    "    print(f\"#{i + 1}: Elf {ranking[i]['elf']} with {ranking[i]['calories']} calories.\")\n",
    "    top_3_total += ranking[i]['calories']\n",
    "\n",
    "print(f\"Total of Top 3: {top_3_total} calories.\")"
   ]
  }
 ],
 "metadata": {
  "kernelspec": {
   "display_name": "Python 3.9.8 64-bit",
   "language": "python",
   "name": "python3"
  },
  "language_info": {
   "codemirror_mode": {
    "name": "ipython",
    "version": 3
   },
   "file_extension": ".py",
   "mimetype": "text/x-python",
   "name": "python",
   "nbconvert_exporter": "python",
   "pygments_lexer": "ipython3",
   "version": "3.9.8"
  },
  "orig_nbformat": 4,
  "vscode": {
   "interpreter": {
    "hash": "6c822c96e91247aa88aa050c21c3cf4338cecd35fe4765b117b1af47ffe54c4d"
   }
  }
 },
 "nbformat": 4,
 "nbformat_minor": 2
}
