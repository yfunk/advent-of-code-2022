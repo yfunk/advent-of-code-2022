{
 "cells": [
  {
   "cell_type": "markdown",
   "metadata": {},
   "source": [
    "# 🌟 Advent of Code 2022"
   ]
  },
  {
   "attachments": {},
   "cell_type": "markdown",
   "metadata": {},
   "source": [
    "## [Day 15: Beacon Exclusion Zone](https://adventofcode.com/2022/day/15)"
   ]
  },
  {
   "cell_type": "code",
   "execution_count": 1,
   "metadata": {},
   "outputs": [],
   "source": [
    "import re\n",
    "\n",
    "def parse_sensors(file):\n",
    "    input = file.read().strip().splitlines()\n",
    "\n",
    "    bounds_x = [1e7, -1e7]\n",
    "    sensors = set()\n",
    "    beacons = set()\n",
    "    \n",
    "    for line in input:\n",
    "        # find all numbers in line using regex\n",
    "        sx, sy, bx, by = [int(x) for x in re.findall(r'(-?\\d+)', line)]\n",
    "        distance = manhattan_distance((sx, sy), (bx, by))\n",
    "\n",
    "        bounds_x = [min(bounds_x[0], sx, bx - distance), max(bounds_x[1], sx, bx + distance)]\n",
    "        sensors.add((sx, sy, distance))\n",
    "        beacons.add((bx, by))\n",
    "\n",
    "    return [sensors, beacons, bounds_x]\n",
    "\n",
    "def manhattan_distance(point_1, point_2):\n",
    "    return abs(point_1[0] - point_2[0]) + abs(point_1[1] - point_2[1])"
   ]
  },
  {
   "cell_type": "code",
   "execution_count": 2,
   "metadata": {},
   "outputs": [],
   "source": [
    "file = open(\"./inputs/day-15.txt\", \"r\")\n",
    "sensors, beacons, bounds_x = parse_sensors(file)"
   ]
  },
  {
   "attachments": {},
   "cell_type": "markdown",
   "metadata": {},
   "source": [
    "### Challenge 1"
   ]
  },
  {
   "cell_type": "code",
   "execution_count": 3,
   "metadata": {},
   "outputs": [
    {
     "name": "stdout",
     "output_type": "stream",
     "text": [
      "In the row 'y = 2000000' there are '4951427' positions that cannot contain a beacon.\n"
     ]
    }
   ],
   "source": [
    "Y_POS = 2000000\n",
    "\n",
    "# find out if a beacon can be located at point (x, y). return True if it can, False if it can't\n",
    "def valid_beacon_position(point): \n",
    "    for sx, sy, distance in sensors:\n",
    "        # if `point` is in range of the sensor (distance from sensor to point is less or equal than\n",
    "        # the distance between the sensor and its nearest beacon) there can't be a beacon at `point`.\n",
    "        if manhattan_distance((sx, sy), point) <= distance:\n",
    "            return False\n",
    "\n",
    "    return True\n",
    "\n",
    "impossible_beacon_position_count = 0\n",
    "for x in range(bounds_x[0], bounds_x[1] + 1):\n",
    "    point = (x, Y_POS)\n",
    "\n",
    "    if (not valid_beacon_position(point) and point not in beacons):\n",
    "        impossible_beacon_position_count += 1\n",
    "\n",
    "print(f\"In the row 'y = 2000000' there are '{impossible_beacon_position_count}' positions that cannot contain a beacon.\")"
   ]
  },
  {
   "attachments": {},
   "cell_type": "markdown",
   "metadata": {},
   "source": [
    "### Challenge 2\n",
    "\n",
    "According to the description there is only one possible location for the distress beacon.\n",
    "\n",
    "This means it has to be right outside the range of a sensor **and** within the `x` / `y` coordinates of `0` and `4,000,000`."
   ]
  },
  {
   "cell_type": "code",
   "execution_count": 4,
   "metadata": {},
   "outputs": [
    {
     "name": "stdout",
     "output_type": "stream",
     "text": [
      "The only possible position for the distress beacon is '(3257428, 2573243)', with its tuning frequency being '13029714573243'.\n"
     ]
    }
   ],
   "source": [
    "# solution adapted from: https://github.com/jonathanpaulson/AdventOfCode/blob/master/2022/15.py\n",
    "\n",
    "MIN_POS = 0\n",
    "MAX_POS = 4_000_000\n",
    "\n",
    "# check for valid beacon position around edge of a sensors 'range'\n",
    "def search_edge_for_beacon_position(sensor):\n",
    "    sensor_x, sensor_y, distance = sensor\n",
    "\n",
    "    # check all points that are `distance + 1` away from the sensor (around the edge of the diamond shape)\n",
    "    for edge_x in range(distance + 2):\n",
    "        edge_y = (distance + 1) - edge_x\n",
    "\n",
    "        for dir_x, dir_y in [(-1,-1),(-1,1),(1,-1),(1,1)]:\n",
    "            x = sensor_x + (edge_x * dir_x)\n",
    "            y = sensor_y + (edge_y * dir_y)\n",
    "            if MIN_POS <= x <= MAX_POS and MIN_POS <= y <= MAX_POS:\n",
    "                if valid_beacon_position((x, y)):\n",
    "                    return (x, y)\n",
    "\n",
    "distress_beacon = None\n",
    "for sensor in sensors:\n",
    "    result = search_edge_for_beacon_position(sensor)\n",
    "    if result:\n",
    "        distress_beacon = result\n",
    "        break\n",
    "\n",
    "tuning_frequency = distress_beacon[0] * 4_000_000 + distress_beacon[1]\n",
    "\n",
    "print(f\"The only possible position for the distress beacon is '{distress_beacon}', with its tuning frequency being '{tuning_frequency}'.\")"
   ]
  }
 ],
 "metadata": {
  "kernelspec": {
   "display_name": "Python 3.9.8 64-bit",
   "language": "python",
   "name": "python3"
  },
  "language_info": {
   "codemirror_mode": {
    "name": "ipython",
    "version": 3
   },
   "file_extension": ".py",
   "mimetype": "text/x-python",
   "name": "python",
   "nbconvert_exporter": "python",
   "pygments_lexer": "ipython3",
   "version": "3.9.8"
  },
  "orig_nbformat": 4,
  "vscode": {
   "interpreter": {
    "hash": "6c822c96e91247aa88aa050c21c3cf4338cecd35fe4765b117b1af47ffe54c4d"
   }
  }
 },
 "nbformat": 4,
 "nbformat_minor": 2
}
