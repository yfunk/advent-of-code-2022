{
 "cells": [
  {
   "cell_type": "markdown",
   "metadata": {},
   "source": [
    "# 🌟 Advent of Code 2022"
   ]
  },
  {
   "cell_type": "markdown",
   "metadata": {},
   "source": [
    "## Day 2: Rock Paper Scissors"
   ]
  },
  {
   "cell_type": "markdown",
   "metadata": {},
   "source": [
    "The Elves begin to set up camp on the beach. To decide whose tent gets to be closest to the snack storage, a giant Rock Paper Scissors tournament is already in progress.\n",
    "\n",
    "Rock Paper Scissors is a game between two players. Each game contains many rounds; in each round, the players each simultaneously choose one of Rock, Paper, or Scissors using a hand shape. Then, a winner for that round is selected: Rock defeats Scissors, Scissors defeats Paper, and Paper defeats Rock. If both players choose the same shape, the round instead ends in a draw.\n",
    "\n",
    "Appreciative of your help yesterday, one Elf gives you an encrypted strategy guide (your puzzle input) that they say will be sure to help you win. \"The first column is what your opponent is going to play: `A` for Rock, `B` for Paper, and `C` for Scissors. The second column--\" Suddenly, the Elf is called away to help with someone's tent.\n",
    "\n",
    "The second column, you reason, must be what you should play in response: `X` for Rock, `Y` for Paper, and `Z` for Scissors. Winning every time would be suspicious, so the responses must have been carefully chosen.\n",
    "\n",
    "The winner of the whole tournament is the player with the highest score. Your total score is the sum of your scores for each round. The score for a single round is the score for the shape you selected (1 for Rock, 2 for Paper, and 3 for Scissors) plus the score for the outcome of the round (0 if you lost, 3 if the round was a draw, and 6 if you won).\n",
    "\n",
    "Since you can't be sure if the Elf is trying to help you or trick you, you should calculate the score you would get if you were to follow the strategy guide.\n",
    "\n",
    "For example, suppose you were given the following strategy guide:\n",
    "\n",
    "```\n",
    "A Y\n",
    "B X\n",
    "C Z\n",
    "```\n",
    "\n",
    "This strategy guide predicts and recommends the following:\n",
    "    - In the first round, your opponent will choose Rock (`A`), and you should choose Paper (`Y`). This ends in a win for you with a score of 8 (2 because you chose Paper + 6 because you won).\n",
    "    - In the second round, your opponent will choose Paper (`B`), and you should choose Rock (`X`). This ends in a loss for you with a score of 1 (1 + 0).\n",
    "    - The third round is a draw with both players choosing Scissors, giving you a score of 3 + 3 = 6.\n",
    "\n",
    "In this example, if you were to follow the strategy guide, you would get a total score of 15 (8 + 1 + 6).\n",
    "\n",
    "What would your total score be if everything goes exactly according to your strategy guide?"
   ]
  },
  {
   "cell_type": "code",
   "execution_count": 22,
   "metadata": {},
   "outputs": [],
   "source": [
    "def parse_strategy_list(file):\n",
    "    strategy = []\n",
    "    for line in file:\n",
    "        strategy.append(line.split())\n",
    "\n",
    "    return strategy"
   ]
  },
  {
   "cell_type": "code",
   "execution_count": 23,
   "metadata": {},
   "outputs": [],
   "source": [
    "file = open(\"./inputs/day-02/strategy.txt\", \"r\")\n",
    "strategy = parse_strategy_list(file)"
   ]
  },
  {
   "cell_type": "code",
   "execution_count": 24,
   "metadata": {},
   "outputs": [
    {
     "name": "stdout",
     "output_type": "stream",
     "text": [
      "Total score when following strategy guide: 12679\n"
     ]
    }
   ],
   "source": [
    "# Challenge 1\n",
    "\n",
    "# opponent choice -> possible choices -> score\n",
    "result_points = {\n",
    "    \"A\": {\n",
    "        \"X\": 3, # draw\n",
    "        \"Y\": 6, # win\n",
    "        \"Z\": 0, # lose\n",
    "    },\n",
    "    \"B\": {\n",
    "        \"X\": 0, # lose\n",
    "        \"Y\": 3, # draw\n",
    "        \"Z\": 6, # win\n",
    "    },\n",
    "    \"C\": {\n",
    "        \"X\": 6, # win\n",
    "        \"Y\": 0, # lose\n",
    "        \"Z\": 3, # draw\n",
    "    }\n",
    "}\n",
    "\n",
    "# points for each choice\n",
    "choice_points = {\n",
    "    \"X\": 1,\n",
    "    \"Y\": 2,\n",
    "    \"Z\": 3\n",
    "}\n",
    "\n",
    "\n",
    "total_score = 0\n",
    "for game in strategy:\n",
    "    # score for choice\n",
    "    total_score += choice_points[game[1]]\n",
    "    # score for outcome\n",
    "    total_score += result_points[game[0]][game[1]]\n",
    "\n",
    "print(f\"Total score when following strategy guide: {total_score}\")\n"
   ]
  },
  {
   "cell_type": "markdown",
   "metadata": {},
   "source": [
    "The Elf finishes helping with the tent and sneaks back over to you. \"Anyway, the second column says how the round needs to end: `X` means you need to lose, `Y` means you need to end the round in a draw, and `Z` means you need to win. Good luck!\"\n",
    "\n",
    "The total score is still calculated in the same way, but now you need to figure out what shape to choose so the round ends as indicated. The example above now goes like this:\n",
    "    - In the first round, your opponent will choose Rock (`A`), and you need the round to end in a draw (`Y`), so you also choose Rock. This gives you a score of 1 + 3 = 4.\n",
    "    - In the second round, your opponent will choose Paper (`B`), and you choose Rock so you lose (`X`) with a score of 1 + 0 = 1.\n",
    "    - In the third round, you will defeat your opponent's Scissors with Rock for a score of 1 + 6 = 7.\n",
    "\n",
    "Now that you're correctly decrypting the ultra top secret strategy guide, you would get a total score of 12.\n",
    "\n",
    "Following the Elf's instructions for the second column, what would your total score be if everything goes exactly according to your strategy guide?"
   ]
  },
  {
   "cell_type": "code",
   "execution_count": 25,
   "metadata": {},
   "outputs": [
    {
     "name": "stdout",
     "output_type": "stream",
     "text": [
      "Total score when following strategy guide properly: 14470\n"
     ]
    }
   ],
   "source": [
    "# Challenge 2\n",
    "\n",
    "strategy_choice = {\n",
    "    \"A\": { # rock\n",
    "        \"X\": \"Z\", # need to lose -> scissors -> Z\n",
    "        \"Y\": \"X\", # need to draw -> rock -> X\n",
    "        \"Z\": \"Y\", # need to win -> paper -> Y\n",
    "    },\n",
    "    \"B\": { # paper\n",
    "        \"X\": \"X\", # need to lose -> rock -> X\n",
    "        \"Y\": \"Y\", # need to draw -> paper -> Y\n",
    "        \"Z\": \"Z\", # need to win -> scissors -> Z\n",
    "    },\n",
    "    \"C\": { # scissors\n",
    "        \"X\": \"Y\", # need to lose -> paper -> Y\n",
    "        \"Y\": \"Z\", # need to draw -> scissors -> Z\n",
    "        \"Z\": \"X\", # need to win -> rock -> X\n",
    "    }\n",
    "}\n",
    "\n",
    "total_score = 0\n",
    "for game in strategy:\n",
    "    choice = strategy_choice[game[0]][game[1]]\n",
    "    # score for choice\n",
    "    total_score += choice_points[choice]\n",
    "    # score for outcome\n",
    "    total_score += result_points[game[0]][choice]\n",
    "\n",
    "print(f\"Total score when following strategy guide properly: {total_score}\")\n"
   ]
  }
 ],
 "metadata": {
  "kernelspec": {
   "display_name": "Python 3.9.8 64-bit",
   "language": "python",
   "name": "python3"
  },
  "language_info": {
   "codemirror_mode": {
    "name": "ipython",
    "version": 3
   },
   "file_extension": ".py",
   "mimetype": "text/x-python",
   "name": "python",
   "nbconvert_exporter": "python",
   "pygments_lexer": "ipython3",
   "version": "3.9.8"
  },
  "orig_nbformat": 4,
  "vscode": {
   "interpreter": {
    "hash": "6c822c96e91247aa88aa050c21c3cf4338cecd35fe4765b117b1af47ffe54c4d"
   }
  }
 },
 "nbformat": 4,
 "nbformat_minor": 2
}
