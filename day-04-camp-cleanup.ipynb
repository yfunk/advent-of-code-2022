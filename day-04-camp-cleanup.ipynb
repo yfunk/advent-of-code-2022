{
 "cells": [
  {
   "cell_type": "markdown",
   "metadata": {},
   "source": [
    "# 🌟 Advent of Code 2022"
   ]
  },
  {
   "cell_type": "markdown",
   "metadata": {},
   "source": [
    "## Day 4: Camp Cleanup"
   ]
  },
  {
   "cell_type": "markdown",
   "metadata": {},
   "source": [
    "Space needs to be cleared before the last supplies can be unloaded from the ships, and so several Elves have been assigned the job of cleaning up sections of the camp. Every section has a unique ID number, and each Elf is assigned a range of section IDs.\n",
    "\n",
    "However, as some of the Elves compare their section assignments with each other, they've noticed that many of the assignments overlap. To try to quickly find overlaps and reduce duplicated effort, the Elves pair up and make a big list of the section assignments for each pair (your puzzle input).\n",
    "\n",
    "For example, consider the following list of section assignment pairs:\n",
    "\n",
    "```\n",
    "2-4,6-8\n",
    "2-3,4-5\n",
    "5-7,7-9\n",
    "2-8,3-7\n",
    "6-6,4-6\n",
    "2-6,4-8\n",
    "```\n",
    "\n",
    "For the first few pairs, this list means:\n",
    "\n",
    "- Within the first pair of Elves, the first Elf was assigned sections `2-4` (sections `2`, `3`, and `4`), while the second Elf was assigned sections `6-8` (sections `6`, `7`, `8`).\n",
    "- The Elves in the second pair were each assigned two sections.\n",
    " -The Elves in the third pair were each assigned three sections: one got sections `5`, `6`, and `7`, while the other also got `7`, plus `8` and `9`.\n",
    "\n",
    "This example list uses single-digit section IDs to make it easier to draw; your actual list might contain larger numbers. Visually, these pairs of section assignments look like this:\n",
    "\n",
    "```\n",
    ".234.....  2-4\n",
    ".....678.  6-8\n",
    "\n",
    ".23......  2-3\n",
    "...45....  4-5\n",
    "\n",
    "....567..  5-7\n",
    "......789  7-9\n",
    "\n",
    ".2345678.  2-8\n",
    "..34567..  3-7\n",
    "\n",
    ".....6...  6-6\n",
    "...456...  4-6\n",
    "\n",
    ".23456...  2-6\n",
    "...45678.  4-8\n",
    "```\n",
    "\n",
    "Some of the pairs have noticed that one of their assignments fully contains the other. For example, `2-8` fully contains `3-7`, and `6-6` is fully contained by `4-6`. In pairs where one assignment fully contains the other, one Elf in the pair would be exclusively cleaning sections their partner will already be cleaning, so these seem like the most in need of reconsideration. In this example, there are `2` such pairs.\n",
    "\n",
    "In how many assignment pairs does one range fully contain the other?"
   ]
  },
  {
   "cell_type": "code",
   "execution_count": 1,
   "metadata": {},
   "outputs": [],
   "source": [
    "def parse_assignments(file):\n",
    "    assignments = []\n",
    "    for line in file:\n",
    "        assignments.append(line.strip().split(\",\"))\n",
    "\n",
    "    return assignments\n",
    "\n",
    "# '2-4' -> {2, 3, 4} (unsorted)\n",
    "def range_string_to_set(range_string):\n",
    "    start, end = range_string.split(\"-\")\n",
    "\n",
    "    result = set({})\n",
    "    for i in range(int(start), int(end) + 1):\n",
    "        result.add(i)\n",
    "\n",
    "    return result"
   ]
  },
  {
   "cell_type": "code",
   "execution_count": 2,
   "metadata": {},
   "outputs": [],
   "source": [
    "file = open(\"./inputs/day-04.txt\", \"r\")\n",
    "assignments = parse_assignments(file)"
   ]
  },
  {
   "cell_type": "code",
   "execution_count": 3,
   "metadata": {},
   "outputs": [
    {
     "name": "stdout",
     "output_type": "stream",
     "text": [
      "For 595 pairs, one range fully contains the other.\n"
     ]
    }
   ],
   "source": [
    "# Challenge 1\n",
    "\n",
    "total_fully_overlapping = 0\n",
    "for pair in assignments:\n",
    "    range_1 = range_string_to_set(pair[0])\n",
    "    range_2 = range_string_to_set(pair[1])\n",
    "\n",
    "    # check if either range is fully contained in the other (intersection has the same size as base range)\n",
    "    if(len(range_1 & range_2) == len(range_1) or len(range_2 & range_1) == len(range_2)):\n",
    "        total_fully_overlapping += 1\n",
    "\n",
    "print(f\"For {total_fully_overlapping} pairs, one range fully contains the other.\")"
   ]
  },
  {
   "cell_type": "markdown",
   "metadata": {},
   "source": [
    "It seems like there is still quite a bit of duplicate work planned. Instead, the Elves would like to know the number of pairs that overlap at all.\n",
    "\n",
    "In the above example, the first two pairs (2-4,6-8 and 2-3,4-5) don't overlap, while the remaining four pairs (5-7,7-9, 2-8,3-7, 6-6,4-6, and 2-6,4-8) do overlap:\n",
    "\n",
    "- `5-7,7-9` overlaps in a single section, `7`.\n",
    "- `2-8,3-7` overlaps all of the sections `3` through `7`.\n",
    "- `6-6,4-6` overlaps in a single section, `6`.\n",
    "- `2-6,4-8` overlaps in sections `4`, `5`, and `6`.\n",
    "\n",
    "So, in this example, the number of overlapping assignment pairs is `4`.\n",
    "\n",
    "In how many assignment pairs do the ranges overlap?"
   ]
  },
  {
   "cell_type": "code",
   "execution_count": 4,
   "metadata": {},
   "outputs": [
    {
     "name": "stdout",
     "output_type": "stream",
     "text": [
      "For 952 pairs the ranges overlap.\n"
     ]
    }
   ],
   "source": [
    "total_overlapping = 0\n",
    "for pair in assignments:\n",
    "    range_1 = range_string_to_set(pair[0])\n",
    "    range_2 = range_string_to_set(pair[1])\n",
    "\n",
    "    # check if ranges have intersection\n",
    "    if(len(range_1 & range_2) > 0):\n",
    "        total_overlapping += 1\n",
    "\n",
    "print(f\"For {total_overlapping} pairs the ranges overlap.\")"
   ]
  }
 ],
 "metadata": {
  "kernelspec": {
   "display_name": "Python 3.9.8 64-bit",
   "language": "python",
   "name": "python3"
  },
  "language_info": {
   "codemirror_mode": {
    "name": "ipython",
    "version": 3
   },
   "file_extension": ".py",
   "mimetype": "text/x-python",
   "name": "python",
   "nbconvert_exporter": "python",
   "pygments_lexer": "ipython3",
   "version": "3.9.8"
  },
  "orig_nbformat": 4,
  "vscode": {
   "interpreter": {
    "hash": "6c822c96e91247aa88aa050c21c3cf4338cecd35fe4765b117b1af47ffe54c4d"
   }
  }
 },
 "nbformat": 4,
 "nbformat_minor": 2
}
