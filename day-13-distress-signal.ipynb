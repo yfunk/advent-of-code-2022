{
 "cells": [
  {
   "cell_type": "markdown",
   "metadata": {},
   "source": [
    "# 🌟 Advent of Code 2022"
   ]
  },
  {
   "attachments": {},
   "cell_type": "markdown",
   "metadata": {},
   "source": [
    "## [Day 13: Distress Signal](https://adventofcode.com/2022/day/13)"
   ]
  },
  {
   "cell_type": "code",
   "execution_count": 1,
   "metadata": {},
   "outputs": [],
   "source": [
    "def parse_packets(file):\n",
    "    input_packets = file.read().strip().split(\"\\n\\n\")\n",
    "\n",
    "    packets = []\n",
    "    for pair in input_packets:\n",
    "        packet_1, packet_2 = pair.split(\"\\n\")\n",
    "        packets.append(eval(packet_1))\n",
    "        packets.append(eval(packet_2))\n",
    "\n",
    "    return packets\n",
    "\n",
    "# returns True or False if a decision on packet order correctness can be made, None otherwise.\n",
    "def compare_values(left, right):\n",
    "    # both are integers\n",
    "    if(isinstance(left, int) and isinstance(right, int)):\n",
    "        if (left == right):\n",
    "            return None\n",
    "\n",
    "        return left < right\n",
    "    # both are lists\n",
    "    elif(isinstance(left, list) and isinstance(right, list)):\n",
    "        for i in range(max(len(left), len(right))):\n",
    "            try:\n",
    "                result = compare_values(left[i], right[i])\n",
    "\n",
    "                if(result != None):\n",
    "                    return result\n",
    "            except IndexError:\n",
    "                # one of the lists ran out\n",
    "                if (len(left) == len(right)):\n",
    "                    return None\n",
    "                elif (i >= len(left)): # left ran out\n",
    "                    return True\n",
    "                else: # right ran out\n",
    "                    return False\n",
    "    # one is list and one is integer\n",
    "    else:\n",
    "        if(isinstance(left, int)):\n",
    "            left = [left]\n",
    "        else:\n",
    "            right = [right]\n",
    "\n",
    "        return compare_values(left, right)"
   ]
  },
  {
   "cell_type": "code",
   "execution_count": 2,
   "metadata": {},
   "outputs": [],
   "source": [
    "file = open(\"./inputs/day-13.txt\", \"r\")\n",
    "packets = parse_packets(file)"
   ]
  },
  {
   "attachments": {},
   "cell_type": "markdown",
   "metadata": {},
   "source": [
    "### Challenge 1"
   ]
  },
  {
   "cell_type": "code",
   "execution_count": 3,
   "metadata": {},
   "outputs": [
    {
     "name": "stdout",
     "output_type": "stream",
     "text": [
      "The sum of the indices of pairs that are in the right order is '4643'\n"
     ]
    }
   ],
   "source": [
    "right_order_pairs = []\n",
    "for i in range(0, len(packets), 2):\n",
    "    packet_1, packet_2 = packets[i:i + 2]\n",
    "\n",
    "    result = compare_values(packet_1, packet_2)\n",
    "\n",
    "    if(result > 0):\n",
    "        right_order_pairs.append((i // 2) + 1)\n",
    "\n",
    "\n",
    "print(f\"The sum of the indices of pairs that are in the right order is '{sum(right_order_pairs)}'\")"
   ]
  },
  {
   "attachments": {},
   "cell_type": "markdown",
   "metadata": {},
   "source": [
    "### Challenge 2"
   ]
  },
  {
   "cell_type": "code",
   "execution_count": 4,
   "metadata": {},
   "outputs": [],
   "source": [
    "from functools import cmp_to_key\n",
    "from math import prod\n",
    "\n",
    "# use adapter to make `compare_values` work as a key function for `sort`\n",
    "def key_adapter(func):\n",
    "    def return_value_adapter(left, right):\n",
    "        result = func(left, right)\n",
    "        if(result == None):\n",
    "            return 0\n",
    "        elif(result == True):\n",
    "            return 1\n",
    "        else:\n",
    "            return -1\n",
    "\n",
    "    return cmp_to_key(return_value_adapter)"
   ]
  },
  {
   "cell_type": "code",
   "execution_count": 5,
   "metadata": {},
   "outputs": [],
   "source": [
    "divider_packets = [[[2]], [[6]]]"
   ]
  },
  {
   "cell_type": "code",
   "execution_count": 6,
   "metadata": {},
   "outputs": [
    {
     "name": "stdout",
     "output_type": "stream",
     "text": [
      "The decoder key for the distress signal is '21614'\n"
     ]
    }
   ],
   "source": [
    "\n",
    "sorted_packets = sorted([*packets, *divider_packets ], key=key_adapter(compare_values), reverse=True)\n",
    "\n",
    "decoder_key = prod([sorted_packets.index(x) + 1 for x in divider_packets])\n",
    "\n",
    "print(f\"The decoder key for the distress signal is '{decoder_key}'\")\n"
   ]
  }
 ],
 "metadata": {
  "kernelspec": {
   "display_name": "Python 3.9.8 64-bit",
   "language": "python",
   "name": "python3"
  },
  "language_info": {
   "codemirror_mode": {
    "name": "ipython",
    "version": 3
   },
   "file_extension": ".py",
   "mimetype": "text/x-python",
   "name": "python",
   "nbconvert_exporter": "python",
   "pygments_lexer": "ipython3",
   "version": "3.9.8"
  },
  "orig_nbformat": 4,
  "vscode": {
   "interpreter": {
    "hash": "6c822c96e91247aa88aa050c21c3cf4338cecd35fe4765b117b1af47ffe54c4d"
   }
  }
 },
 "nbformat": 4,
 "nbformat_minor": 2
}
