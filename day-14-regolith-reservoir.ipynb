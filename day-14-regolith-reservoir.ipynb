{
 "cells": [
  {
   "cell_type": "markdown",
   "metadata": {},
   "source": [
    "# 🌟 Advent of Code 2022"
   ]
  },
  {
   "attachments": {},
   "cell_type": "markdown",
   "metadata": {},
   "source": [
    "## [Day 14: Regolith Reservoir](https://adventofcode.com/2022/day/14)"
   ]
  },
  {
   "cell_type": "code",
   "execution_count": 1,
   "metadata": {},
   "outputs": [],
   "source": [
    "# parses list the coordinates of tiles that contain structures\n",
    "def parse_slice(input):\n",
    "    scan = input.read().strip().split('\\n')\n",
    "\n",
    "    structures = set()\n",
    "    max_y = 0\n",
    "\n",
    "    for structure in scan:\n",
    "        coordinates = structure.split(' -> ')\n",
    "        last_coordinate = None\n",
    "\n",
    "        for coordinate in coordinates:\n",
    "            x, y = [int(c) for c in coordinate.split(',')]\n",
    "            max_y = max(max_y, y)\n",
    "\n",
    "            if last_coordinate:\n",
    "                last_x, last_y = last_coordinate\n",
    "                \n",
    "                if last_x == x: # vertical line\n",
    "                    for py in range(min(last_y, y), max(last_y, y) + 1):\n",
    "                        structures.add((x, py))\n",
    "                else: # horizontal line\n",
    "                    for px in range(min(last_x, x), max(last_x, x) + 1):\n",
    "                        structures.add((px, y))                \n",
    "\n",
    "            last_coordinate = (x, y)\n",
    "\n",
    "    return [structures, max_y]\n"
   ]
  },
  {
   "cell_type": "code",
   "execution_count": 2,
   "metadata": {},
   "outputs": [],
   "source": [
    "file = open(\"./inputs/day-14.txt\", \"r\")\n",
    "structures, max_y = parse_slice(file)"
   ]
  },
  {
   "cell_type": "code",
   "execution_count": 3,
   "metadata": {},
   "outputs": [],
   "source": [
    "SAND_ORIGIN = (500, 0)"
   ]
  },
  {
   "attachments": {},
   "cell_type": "markdown",
   "metadata": {},
   "source": [
    "### Challenge 1"
   ]
  },
  {
   "cell_type": "code",
   "execution_count": 4,
   "metadata": {},
   "outputs": [
    {
     "name": "stdout",
     "output_type": "stream",
     "text": [
      "'888' units of sand come to rest before sand starts flowing into the abyss below.\n"
     ]
    }
   ],
   "source": [
    "obstacles = structures.copy()\n",
    "rested_sand_count = 0\n",
    "\n",
    "while True:\n",
    "    sand_pos = SAND_ORIGIN\n",
    "\n",
    "    while sand_pos[1] <= max_y: # drop sand 1 step\n",
    "        x, y = sand_pos\n",
    "\n",
    "        # try to fall down\n",
    "        if ((x, y + 1) not in obstacles):\n",
    "            sand_pos = (x, y + 1)\n",
    "        # try to fall left diagonally\n",
    "        elif ((x - 1, y + 1) not in obstacles):\n",
    "            sand_pos = (x - 1, y + 1)\n",
    "        # try to fall right diagonally\n",
    "        elif ((x + 1, y + 1) not in obstacles):\n",
    "            sand_pos = (x + 1, y + 1)\n",
    "        else: # sand has come to rest\n",
    "            obstacles.add(sand_pos)\n",
    "            rested_sand_count += 1\n",
    "            break\n",
    "    else:\n",
    "        break;\n",
    "    \n",
    "print(f\"'{rested_sand_count}' units of sand come to rest before sand starts flowing into the abyss below.\")\n"
   ]
  },
  {
   "attachments": {},
   "cell_type": "markdown",
   "metadata": {},
   "source": [
    "### Challenge 2"
   ]
  },
  {
   "cell_type": "code",
   "execution_count": 5,
   "metadata": {},
   "outputs": [
    {
     "name": "stdout",
     "output_type": "stream",
     "text": [
      "'26461' units of sand come to rest before the source of the sand becomes blocked.\n"
     ]
    }
   ],
   "source": [
    "FLOOR_Y = max_y + 2\n",
    "\n",
    "obstacles = structures.copy()\n",
    "rested_sand_count = 0\n",
    "\n",
    "while True:\n",
    "    sand_pos = SAND_ORIGIN\n",
    "\n",
    "    while True: # drop sand 1 step\n",
    "        x, y = sand_pos\n",
    "\n",
    "        if (y == FLOOR_Y - 1):\n",
    "            obstacles.add(sand_pos)\n",
    "            rested_sand_count += 1\n",
    "            break\n",
    "\n",
    "        # try to fall down\n",
    "        if ((x, y + 1) not in obstacles):\n",
    "            sand_pos = (x, y + 1)\n",
    "        # try to fall left diagonally\n",
    "        elif ((x - 1, y + 1) not in obstacles):\n",
    "            sand_pos = (x - 1, y + 1)\n",
    "        # try to fall right diagonally\n",
    "        elif ((x + 1, y + 1) not in obstacles):\n",
    "            sand_pos = (x + 1, y + 1)\n",
    "        else: # sand has come to rest\n",
    "            obstacles.add(sand_pos)\n",
    "            rested_sand_count += 1\n",
    "            break\n",
    "    \n",
    "    # check if sand came to rest at origin position\n",
    "    if(sand_pos == SAND_ORIGIN):\n",
    "        break;\n",
    "    \n",
    "print(f\"'{rested_sand_count}' units of sand come to rest before the source of the sand becomes blocked.\")\n"
   ]
  },
  {
   "attachments": {},
   "cell_type": "markdown",
   "metadata": {},
   "source": [
    "### Improved Solution"
   ]
  },
  {
   "cell_type": "code",
   "execution_count": 6,
   "metadata": {},
   "outputs": [],
   "source": [
    "SAND_ORIGIN = (500, 0)\n",
    "\n",
    "def simulate_sand(structures, max_y, has_floor = False):\n",
    "    FLOOR_Y = max_y + 2\n",
    "\n",
    "    obstacles = structures.copy()\n",
    "    rested_sand_count = 0\n",
    "\n",
    "    while True:\n",
    "        sand_pos = SAND_ORIGIN\n",
    "\n",
    "        # simulate single unit of sand falling\n",
    "        while True:\n",
    "            x, y = sand_pos\n",
    "\n",
    "            # check if sand hit floor\n",
    "            if (has_floor and y == FLOOR_Y - 1):\n",
    "                break\n",
    "            # check if sand fell into abyss\n",
    "            if (not has_floor and y > max_y):\n",
    "                return rested_sand_count\n",
    "\n",
    "            # try to fall down\n",
    "            if ((x, y + 1) not in obstacles):\n",
    "                sand_pos = (x, y + 1)\n",
    "            # try to fall left diagonally\n",
    "            elif ((x - 1, y + 1) not in obstacles):\n",
    "                sand_pos = (x - 1, y + 1)\n",
    "            # try to fall right diagonally\n",
    "            elif ((x + 1, y + 1) not in obstacles):\n",
    "                sand_pos = (x + 1, y + 1)\n",
    "            else: # sand has come to rest\n",
    "                break\n",
    "\n",
    "        # add sand to obstacles\n",
    "        obstacles.add(sand_pos)\n",
    "        rested_sand_count += 1\n",
    "\n",
    "        # check if sand came to rest at origin position\n",
    "        if (sand_pos == SAND_ORIGIN):\n",
    "            return rested_sand_count\n",
    "\n",
    "        sand_pos = SAND_ORIGIN"
   ]
  },
  {
   "cell_type": "code",
   "execution_count": 7,
   "metadata": {},
   "outputs": [
    {
     "name": "stdout",
     "output_type": "stream",
     "text": [
      "[Challenge 1] '888' units of sand come to rest before sand starts flowing into the abyss below.\n",
      "[Challenge 2] '26461' units of sand come to rest before the source of the sand becomes blocked.\n"
     ]
    }
   ],
   "source": [
    "file = open(\"./inputs/day-14.txt\", \"r\")\n",
    "structures, max_y = parse_slice(file)\n",
    "\n",
    "print(f\"[Challenge 1] '{simulate_sand(structures, max_y)}' units of sand come to rest before sand starts flowing into the abyss below.\")\n",
    "print(f\"[Challenge 2] '{simulate_sand(structures, max_y, True)}' units of sand come to rest before the source of the sand becomes blocked.\")\n"
   ]
  }
 ],
 "metadata": {
  "kernelspec": {
   "display_name": "Python 3.9.8 64-bit",
   "language": "python",
   "name": "python3"
  },
  "language_info": {
   "codemirror_mode": {
    "name": "ipython",
    "version": 3
   },
   "file_extension": ".py",
   "mimetype": "text/x-python",
   "name": "python",
   "nbconvert_exporter": "python",
   "pygments_lexer": "ipython3",
   "version": "3.9.8"
  },
  "orig_nbformat": 4,
  "vscode": {
   "interpreter": {
    "hash": "6c822c96e91247aa88aa050c21c3cf4338cecd35fe4765b117b1af47ffe54c4d"
   }
  }
 },
 "nbformat": 4,
 "nbformat_minor": 2
}
