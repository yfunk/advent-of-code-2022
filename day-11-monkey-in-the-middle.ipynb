{
 "cells": [
  {
   "cell_type": "markdown",
   "metadata": {},
   "source": [
    "# 🌟 Advent of Code 2022"
   ]
  },
  {
   "attachments": {},
   "cell_type": "markdown",
   "metadata": {},
   "source": [
    "## [Day 11: Monkey in the Middle](https://adventofcode.com/2022/day/11)"
   ]
  },
  {
   "cell_type": "code",
   "execution_count": 1,
   "metadata": {},
   "outputs": [],
   "source": [
    "# day-11.txt\n",
    "# hardcode input data since its pretty short and not that easy to parse\n",
    "input_data = [\n",
    "    {\n",
    "        \"start\": [85, 77, 77],\n",
    "        \"operation\": lambda x : x * 7,\n",
    "        \"test\": 19,\n",
    "        \"true\": 6,\n",
    "        \"false\": 7\n",
    "    },\n",
    "    {\n",
    "        \"start\": [80, 99],\n",
    "        \"operation\": lambda x : x * 11,\n",
    "        \"test\": 3,\n",
    "        \"true\": 3,\n",
    "        \"false\": 5\n",
    "    },\n",
    "    {\n",
    "        \"start\": [74, 60, 74, 63, 86, 92, 80],\n",
    "        \"operation\": lambda x : x + 8,\n",
    "        \"test\": 13,\n",
    "        \"true\": 0,\n",
    "        \"false\": 6\n",
    "    },\n",
    "    {\n",
    "        \"start\": [71, 58, 93, 65, 80, 68, 54, 71],\n",
    "        \"operation\": lambda x : x + 7,\n",
    "        \"test\": 7,\n",
    "        \"true\": 2,\n",
    "        \"false\": 4\n",
    "    },\n",
    "    {\n",
    "        \"start\": [97, 56, 79, 65, 58],\n",
    "        \"operation\": lambda x : x + 5,\n",
    "        \"test\": 5,\n",
    "        \"true\": 2,\n",
    "        \"false\": 0\n",
    "    },\n",
    "    {\n",
    "        \"start\": [77],\n",
    "        \"operation\": lambda x : x + 4,\n",
    "        \"test\": 11,\n",
    "        \"true\": 4,\n",
    "        \"false\": 3\n",
    "    },\n",
    "    {\n",
    "        \"start\": [99, 90, 84, 50],\n",
    "        \"operation\": lambda x : x * x,\n",
    "        \"test\": 17,\n",
    "        \"true\": 7,\n",
    "        \"false\": 1\n",
    "    },\n",
    "    {\n",
    "        \"start\": [50, 66, 61, 92, 64, 78],\n",
    "        \"operation\": lambda x : x + 3,\n",
    "        \"test\": 2,\n",
    "        \"true\": 5,\n",
    "        \"false\": 1\n",
    "    },\n",
    "]"
   ]
  },
  {
   "cell_type": "code",
   "execution_count": 2,
   "metadata": {},
   "outputs": [],
   "source": [
    "import copy\n",
    "import math"
   ]
  },
  {
   "attachments": {},
   "cell_type": "markdown",
   "metadata": {},
   "source": [
    "### Challenge 1"
   ]
  },
  {
   "cell_type": "code",
   "execution_count": 3,
   "metadata": {},
   "outputs": [
    {
     "name": "stdout",
     "output_type": "stream",
     "text": [
      "The level of monkey business after 20 rounds of stuff-slinging simian shenanigans is '54752'\n"
     ]
    }
   ],
   "source": [
    "ROUNDS = 20\n",
    "\n",
    "monkeys = copy.deepcopy(input_data)\n",
    "monkey_inspect_count = [0] * len(monkeys)\n",
    "\n",
    "for i in range(ROUNDS):\n",
    "    for monkey in monkeys:\n",
    "        for _ in range(len(monkey[\"start\"])):\n",
    "            # inspect item\n",
    "            item = monkey[\"start\"].pop(0)\n",
    "            monkey_inspect_count[monkeys.index(monkey)] += 1\n",
    "\n",
    "            # increase (and decrease) worry level\n",
    "            new_item = monkey[\"operation\"](item) // 3\n",
    "            \n",
    "            # throw item to next monkey\n",
    "            if(new_item % monkey[\"test\"] == 0):\n",
    "                monkeys[monkey[\"true\"]][\"start\"].append(new_item)\n",
    "            else:\n",
    "                monkeys[monkey[\"false\"]][\"start\"].append(new_item)\n",
    "\n",
    "\n",
    "highest_inspect_counts = sorted(monkey_inspect_count, reverse=True)\n",
    "monkey_business = highest_inspect_counts[0] * highest_inspect_counts[1]\n",
    "print(f\"The level of monkey business after 20 rounds of stuff-slinging simian shenanigans is '{monkey_business}'\")"
   ]
  },
  {
   "attachments": {},
   "cell_type": "markdown",
   "metadata": {},
   "source": [
    "### Challenge 2"
   ]
  },
  {
   "cell_type": "code",
   "execution_count": 4,
   "metadata": {},
   "outputs": [
    {
     "name": "stdout",
     "output_type": "stream",
     "text": [
      "The level of monkey business after 10000 rounds is '13606755504'\n"
     ]
    }
   ],
   "source": [
    "ROUNDS = 10000\n",
    "PROD_OF_CHECKS = math.prod([monkey[\"test\"] for monkey in input_data])\n",
    "\n",
    "monkeys = copy.deepcopy(input_data)\n",
    "monkey_inspect_count = [0] * len(monkeys)\n",
    "\n",
    "for _ in range(ROUNDS):\n",
    "    for monkey in monkeys:\n",
    "        for _ in range(len(monkey[\"start\"])):\n",
    "            # inspect item\n",
    "            item = monkey[\"start\"].pop(0)\n",
    "            monkey_inspect_count[monkeys.index(monkey)] += 1\n",
    "\n",
    "            # increase (and decrease) worry level\n",
    "            new_item = monkey[\"operation\"](item)\n",
    "            new_item %= PROD_OF_CHECKS\n",
    "\n",
    "            # throw item to next monkey\n",
    "            if(new_item % monkey[\"test\"] == 0):\n",
    "                monkeys[monkey[\"true\"]][\"start\"].append(new_item)\n",
    "            else:\n",
    "                monkeys[monkey[\"false\"]][\"start\"].append(new_item)\n",
    "\n",
    "\n",
    "highest_inspect_counts = sorted(monkey_inspect_count, reverse=True)\n",
    "monkey_business = highest_inspect_counts[0] * highest_inspect_counts[1]\n",
    "print(f\"The level of monkey business after 10000 rounds is '{monkey_business}'\")"
   ]
  }
 ],
 "metadata": {
  "kernelspec": {
   "display_name": "Python 3.9.8 64-bit",
   "language": "python",
   "name": "python3"
  },
  "language_info": {
   "codemirror_mode": {
    "name": "ipython",
    "version": 3
   },
   "file_extension": ".py",
   "mimetype": "text/x-python",
   "name": "python",
   "nbconvert_exporter": "python",
   "pygments_lexer": "ipython3",
   "version": "3.9.8"
  },
  "orig_nbformat": 4,
  "vscode": {
   "interpreter": {
    "hash": "6c822c96e91247aa88aa050c21c3cf4338cecd35fe4765b117b1af47ffe54c4d"
   }
  }
 },
 "nbformat": 4,
 "nbformat_minor": 2
}
