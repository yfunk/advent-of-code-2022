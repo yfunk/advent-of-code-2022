{
 "cells": [
  {
   "cell_type": "markdown",
   "metadata": {},
   "source": [
    "# 🌟 Advent of Code 2022"
   ]
  },
  {
   "attachments": {},
   "cell_type": "markdown",
   "metadata": {},
   "source": [
    "## [Day 10: Cathode-Ray Tube](https://adventofcode.com/2022/day/10)"
   ]
  },
  {
   "cell_type": "code",
   "execution_count": 1,
   "metadata": {},
   "outputs": [],
   "source": [
    "INSTRUCTION_CYCLE_COUNT = {\"addx\": 2, \"noop\": 1}\n",
    "\n",
    "def deep_copy(list):\n",
    "    return [x[:] for x in list]"
   ]
  },
  {
   "cell_type": "code",
   "execution_count": 2,
   "metadata": {},
   "outputs": [],
   "source": [
    "file = open(\"./inputs/day-10.txt\", \"r\")\n",
    "lines = file.read().strip().split(\"\\n\")\n",
    "\n",
    "instructions = [line.split() for line in lines]"
   ]
  },
  {
   "attachments": {},
   "cell_type": "markdown",
   "metadata": {},
   "source": [
    "### Challenge 1"
   ]
  },
  {
   "cell_type": "code",
   "execution_count": 3,
   "metadata": {},
   "outputs": [
    {
     "name": "stdout",
     "output_type": "stream",
     "text": [
      "The sum of signal strengths during the 20th, 60th, 100th, 140th, 180th, and 220th cycles is '14060'\n"
     ]
    }
   ],
   "source": [
    "memory = deep_copy(instructions) # program loaded into memory\n",
    "\n",
    "reg_x = 1\n",
    "cycle = 1 # current cycle\n",
    "\n",
    "instruction = None\n",
    "instruction_remaining_cycles = 0\n",
    "\n",
    "interesting_signal_strengths = {20: None, 60: None, 100: None, 140: None, 180: None, 220: None}\n",
    "\n",
    "while True:  \n",
    "    # start of cycle ------------------\n",
    "    if instruction == None:\n",
    "        # no new instructions, stop\n",
    "        if len(memory) == 0: break\n",
    "        # begin executing new instruction\n",
    "        instruction = memory.pop(0)\n",
    "        instruction_remaining_cycles = INSTRUCTION_CYCLE_COUNT[instruction[0]]\n",
    "        # print(f\"cycle {cycle} (start): picked new instruction '{instruction}'. remaing cycles: {instruction_remaining_cycles}\")\n",
    "\n",
    "    # during cycle --------------------\n",
    "    instruction_remaining_cycles -= 1\n",
    "\n",
    "    if cycle in interesting_signal_strengths:\n",
    "        interesting_signal_strengths[cycle] = cycle * reg_x\n",
    "        # print(f\"cycle {cycle}: storing signal strength {cycle * reg_x}\")\n",
    "\n",
    "    # end of cycle --------------------\n",
    "    if instruction_remaining_cycles == 0:\n",
    "        # print(f\"cycle {cycle} (end): finished executing instruction '{instruction}'\")\n",
    "        # execute instruction changes\n",
    "        if instruction[0] == \"addx\":\n",
    "            reg_x += int(instruction[1])\n",
    "        else: # noop\n",
    "            pass\n",
    "\n",
    "        instruction = None\n",
    "\n",
    "    cycle += 1\n",
    "\n",
    "sum_of_signal_strengths = sum(interesting_signal_strengths.values())\n",
    "\n",
    "print(f\"The sum of signal strengths during the 20th, 60th, 100th, 140th, 180th, and 220th cycles is '{sum_of_signal_strengths}'\")"
   ]
  },
  {
   "attachments": {},
   "cell_type": "markdown",
   "metadata": {},
   "source": [
    "### Challenge 2"
   ]
  },
  {
   "cell_type": "code",
   "execution_count": 4,
   "metadata": {},
   "outputs": [
    {
     "name": "stdout",
     "output_type": "stream",
     "text": [
      "The program renders the following image:\n",
      "###...##..###..#..#.####.#..#.####...###\n",
      "#..#.#..#.#..#.#.#..#....#.#..#.......##\n",
      "#..#.#..#.#..#.##...###..##...###.....##\n",
      "###..####.###..#.#..#....#.#..#.......#.\n",
      "#....#..#.#....#.#..#....#.#..#....#..#.\n",
      "#....#..#.#....#..#.#....#..#.####..##..\n"
     ]
    }
   ],
   "source": [
    "CRT_ROW_PIXELS = 40\n",
    "CRT_ROWS = 6\n",
    "\n",
    "memory = deep_copy(instructions) # program loaded into memory\n",
    "\n",
    "reg_x = 1\n",
    "cycle = 1 # current cycle\n",
    "\n",
    "instruction = None\n",
    "instruction_remaining_cycles = 0\n",
    "\n",
    "pixels = [\".\"] * CRT_ROW_PIXELS * CRT_ROWS\n",
    "\n",
    "while True:  \n",
    "    # start of cycle ------------------\n",
    "    if instruction == None:\n",
    "        # no new instructions, stop\n",
    "        if len(instructions) == 0: break\n",
    "        # begin executing new instruction\n",
    "        instruction = instructions.pop(0)\n",
    "        instruction_remaining_cycles = INSTRUCTION_CYCLE_COUNT[instruction[0]]\n",
    "        # print(f\"cycle {cycle} (start): picked new instruction '{instruction}'. remaing cycles: {instruction_remaining_cycles}\")\n",
    "\n",
    "    # during cycle --------------------\n",
    "    # check whether to draw pixel\n",
    "    if abs(reg_x - ((cycle % CRT_ROW_PIXELS) - 1)) <= 1:\n",
    "        # print(f\"cycle {cycle}: drawing pixel\")\n",
    "        pixels[cycle - 1] = \"#\"\n",
    "\n",
    "    instruction_remaining_cycles -= 1\n",
    "\n",
    "    # end of cycle --------------------\n",
    "    if instruction_remaining_cycles == 0:\n",
    "        # print(f\"cycle {cycle} (end): finished executing instruction '{instruction}'\")\n",
    "        # execute instruction changes\n",
    "        if instruction[0] == \"addx\":\n",
    "            reg_x += int(instruction[1])\n",
    "        else: # noop\n",
    "            pass\n",
    "\n",
    "        instruction = None\n",
    "\n",
    "    cycle += 1\n",
    "\n",
    "print(\"The program renders the following image:\")\n",
    "for row in range(CRT_ROWS):\n",
    "    print(\"\".join(pixels[row * CRT_ROW_PIXELS:row * CRT_ROW_PIXELS + CRT_ROW_PIXELS]))"
   ]
  }
 ],
 "metadata": {
  "kernelspec": {
   "display_name": "Python 3.9.8 64-bit",
   "language": "python",
   "name": "python3"
  },
  "language_info": {
   "codemirror_mode": {
    "name": "ipython",
    "version": 3
   },
   "file_extension": ".py",
   "mimetype": "text/x-python",
   "name": "python",
   "nbconvert_exporter": "python",
   "pygments_lexer": "ipython3",
   "version": "3.9.8"
  },
  "orig_nbformat": 4,
  "vscode": {
   "interpreter": {
    "hash": "6c822c96e91247aa88aa050c21c3cf4338cecd35fe4765b117b1af47ffe54c4d"
   }
  }
 },
 "nbformat": 4,
 "nbformat_minor": 2
}
