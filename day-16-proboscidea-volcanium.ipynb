{
 "cells": [
  {
   "cell_type": "markdown",
   "metadata": {},
   "source": [
    "# 🌟 Advent of Code 2022"
   ]
  },
  {
   "attachments": {},
   "cell_type": "markdown",
   "metadata": {},
   "source": [
    "## [Day 16: Proboscidea Volcanium](https://adventofcode.com/2022/day/16)"
   ]
  },
  {
   "cell_type": "code",
   "execution_count": 32,
   "metadata": {},
   "outputs": [],
   "source": [
    "import re\n",
    "\n",
    "def parse_valves(file):\n",
    "    input = file.read().strip().splitlines()\n",
    "\n",
    "    valves = {}\n",
    "    for line in input:\n",
    "        valve, flow, *paths = re.findall(r'([A-Z]{2}|\\d+)', line)\n",
    "        valves[valve] = (int(flow), paths)\n",
    "\n",
    "    return valves"
   ]
  },
  {
   "cell_type": "code",
   "execution_count": 33,
   "metadata": {},
   "outputs": [
    {
     "name": "stdout",
     "output_type": "stream",
     "text": [
      "{'TM': (0, ['KF', 'AA']), 'LG': (8, ['DD', 'UA']), 'IZ': (20, ['LY', 'XC']), 'XF': (0, ['PB', 'QD']), 'FE': (0, ['ZW', 'KF']), 'ZP': (0, ['MT', 'AI']), 'CL': (0, ['JN', 'AI']), 'UA': (0, ['VW', 'LG']), 'VP': (0, ['MB', 'GU']), 'KY': (0, ['BZ', 'CJ']), 'AI': (11, ['TL', 'GG', 'CL', 'ZP', 'MM']), 'GD': (0, ['KB', 'QK']), 'GU': (14, ['ZK', 'VP']), 'RO': (0, ['KS', 'TJ']), 'VW': (0, ['UA', 'KS']), 'YE': (24, ['DP']), 'AA': (0, ['TL', 'ZU', 'TM', 'RL', 'BZ']), 'RL': (0, ['AA', 'NU']), 'RG': (0, ['CJ', 'KS']), 'ZW': (0, ['TJ', 'FE']), 'OY': (0, ['KS', 'AO']), 'CE': (0, ['QK', 'IQ']), 'JN': (0, ['EK', 'CL']), 'OF': (0, ['KS', 'ZK']), 'LY': (0, ['IZ', 'EJ']), 'DD': (0, ['KF', 'LG']), 'QK': (15, ['CE', 'EJ', 'UK', 'GD']), 'XC': (0, ['RA', 'IZ']), 'EK': (22, ['JN']), 'JM': (0, ['VF', 'KF']), 'UK': (0, ['PB', 'QK']), 'ZK': (0, ['GU', 'OF']), 'EJ': (0, ['LY', 'QK']), 'CJ': (10, ['WS', 'IQ', 'RG', 'KY']), 'MB': (18, ['VP']), 'TL': (0, ['AA', 'AI']), 'KS': (13, ['OF', 'OY', 'RO', 'RG', 'VW']), 'QD': (0, ['XF', 'TJ']), 'CU': (19, ['AO', 'DP']), 'PB': (5, ['ZU', 'GG', 'XF', 'UK', 'VF']), 'KF': (7, ['DD', 'JM', 'ZH', 'FE', 'TM']), 'TJ': (3, ['QD', 'ZW', 'NU', 'RO', 'MT']), 'ZH': (0, ['KF', 'WS']), 'BZ': (0, ['KY', 'AA']), 'NU': (0, ['RL', 'TJ']), 'KB': (21, ['RA', 'GD', 'JW']), 'WS': (0, ['ZH', 'CJ']), 'ZU': (0, ['PB', 'AA']), 'MT': (0, ['ZP', 'TJ']), 'JW': (0, ['MM', 'KB']), 'DP': (0, ['CU', 'YE']), 'AO': (0, ['OY', 'CU']), 'RA': (0, ['KB', 'XC']), 'VF': (0, ['PB', 'JM']), 'IQ': (0, ['CE', 'CJ']), 'GG': (0, ['AI', 'PB']), 'MM': (0, ['AI', 'JW'])}\n"
     ]
    }
   ],
   "source": [
    "file = open(\"./inputs/day-16.txt\", \"r\")\n",
    "valves = parse_valves(file)\n",
    "\n",
    "print(valves)"
   ]
  },
  {
   "attachments": {},
   "cell_type": "markdown",
   "metadata": {},
   "source": [
    "### Challenge 1"
   ]
  },
  {
   "cell_type": "code",
   "execution_count": 34,
   "metadata": {},
   "outputs": [
    {
     "name": "stdout",
     "output_type": "stream",
     "text": [
      "Minute 0:\n",
      "    Opening valve AA with flow rate 0\n",
      "    Pressure release now: 0\n",
      "    Picking next path from ['TL', 'ZU', 'TM', 'RL', 'BZ']\n",
      "    Chose path TL with flow rate 0\n",
      "Minute 2:\n",
      "    Opening valve TL with flow rate 0\n",
      "    Pressure release now: 0\n",
      "    Picking next path from ['AA', 'AI']\n",
      "    Chose path AI with flow rate 11\n",
      "Minute 4:\n",
      "    Opening valve AI with flow rate 11\n",
      "    Pressure release now: 44\n",
      "    Picking next path from ['TL', 'GG', 'CL', 'ZP', 'MM']\n",
      "    Chose path TL with flow rate 0\n",
      "Minute 6:\n",
      "    Opening valve TL with flow rate 0\n",
      "    Pressure release now: 44\n",
      "    Picking next path from ['AA', 'AI']\n",
      "    Chose path AA with flow rate 0\n",
      "Minute 8:\n",
      "    Opening valve AA with flow rate 0\n",
      "    Pressure release now: 44\n",
      "    Picking next path from ['TL', 'ZU', 'TM', 'RL', 'BZ']\n",
      "    Chose path TL with flow rate 0\n",
      "Minute 10:\n",
      "    Opening valve TL with flow rate 0\n",
      "    Pressure release now: 44\n",
      "    Picking next path from ['AA', 'AI']\n",
      "    Chose path AA with flow rate 0\n",
      "Minute 12:\n",
      "    Opening valve AA with flow rate 0\n",
      "    Pressure release now: 44\n",
      "    Picking next path from ['TL', 'ZU', 'TM', 'RL', 'BZ']\n",
      "    Chose path TL with flow rate 0\n",
      "Minute 14:\n",
      "    Opening valve TL with flow rate 0\n",
      "    Pressure release now: 44\n",
      "    Picking next path from ['AA', 'AI']\n",
      "    Chose path AA with flow rate 0\n",
      "Minute 16:\n",
      "    Opening valve AA with flow rate 0\n",
      "    Pressure release now: 44\n",
      "    Picking next path from ['TL', 'ZU', 'TM', 'RL', 'BZ']\n",
      "    Chose path TL with flow rate 0\n",
      "Minute 18:\n",
      "    Opening valve TL with flow rate 0\n",
      "    Pressure release now: 44\n",
      "    Picking next path from ['AA', 'AI']\n",
      "    Chose path AA with flow rate 0\n",
      "Minute 20:\n",
      "    Opening valve AA with flow rate 0\n",
      "    Pressure release now: 44\n",
      "    Picking next path from ['TL', 'ZU', 'TM', 'RL', 'BZ']\n",
      "    Chose path TL with flow rate 0\n",
      "Minute 22:\n",
      "    Opening valve TL with flow rate 0\n",
      "    Pressure release now: 44\n",
      "    Picking next path from ['AA', 'AI']\n",
      "    Chose path AA with flow rate 0\n",
      "Minute 24:\n",
      "    Opening valve AA with flow rate 0\n",
      "    Pressure release now: 44\n",
      "    Picking next path from ['TL', 'ZU', 'TM', 'RL', 'BZ']\n",
      "    Chose path TL with flow rate 0\n",
      "Minute 26:\n",
      "    Opening valve TL with flow rate 0\n",
      "    Pressure release now: 44\n",
      "    Picking next path from ['AA', 'AI']\n",
      "    Chose path AA with flow rate 0\n",
      "Minute 28:\n",
      "    Opening valve AA with flow rate 0\n",
      "    Pressure release now: 44\n",
      "    Picking next path from ['TL', 'ZU', 'TM', 'RL', 'BZ']\n",
      "    Chose path TL with flow rate 0\n",
      "Minute 30:\n",
      "44\n"
     ]
    }
   ],
   "source": [
    "# Code for Challenge 1 here\n",
    "\n",
    "# start at AA\n",
    "# valves with highest flow rate should be opened first\n",
    "\n",
    "TIME_MINUTES = 30\n",
    "\n",
    "pressure_release = 0\n",
    "opened_valves = set()\n",
    "position = 'AA'\n",
    "\n",
    "for passed_minutes in range(0, TIME_MINUTES + 1, 2):\n",
    "    print(f\"Minute {passed_minutes}:\")\n",
    "    if (passed_minutes >= 30):\n",
    "        break;\n",
    "\n",
    "    # open valve at current position\n",
    "    print(f\"    Opening valve {position} with flow rate {valves[position][0]}\")\n",
    "    pressure_release += (passed_minutes * valves[position][0])\n",
    "    print(f\"    Pressure release now: {pressure_release}\")\n",
    "    opened_valves.add(position)\n",
    "\n",
    "    # find best path position\n",
    "    next_position = valves[position][1][0]\n",
    "    max_flow = valves[next_position][0]\n",
    "    print(f\"    Picking next path from {valves[position][1]}\")\n",
    "    for path in valves[position][1]:\n",
    "        if path not in opened_valves and valves[path][0] > max_flow:\n",
    "            max_flow = valves[path][0]\n",
    "            next_position = path\n",
    "\n",
    "    print(f\"    Chose path {next_position} with flow rate {max_flow}\")\n",
    "    position = next_position\n",
    "\n",
    "print(pressure_release)\n",
    "\n"
   ]
  },
  {
   "attachments": {},
   "cell_type": "markdown",
   "metadata": {},
   "source": [
    "### Challenge 2"
   ]
  },
  {
   "cell_type": "code",
   "execution_count": 35,
   "metadata": {},
   "outputs": [],
   "source": [
    "# Code for Challenge 2 here"
   ]
  }
 ],
 "metadata": {
  "kernelspec": {
   "display_name": "Python 3.9.8 64-bit",
   "language": "python",
   "name": "python3"
  },
  "language_info": {
   "codemirror_mode": {
    "name": "ipython",
    "version": 3
   },
   "file_extension": ".py",
   "mimetype": "text/x-python",
   "name": "python",
   "nbconvert_exporter": "python",
   "pygments_lexer": "ipython3",
   "version": "3.9.8"
  },
  "orig_nbformat": 4,
  "vscode": {
   "interpreter": {
    "hash": "6c822c96e91247aa88aa050c21c3cf4338cecd35fe4765b117b1af47ffe54c4d"
   }
  }
 },
 "nbformat": 4,
 "nbformat_minor": 2
}
