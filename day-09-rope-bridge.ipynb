{
 "cells": [
  {
   "cell_type": "markdown",
   "metadata": {},
   "source": [
    "# 🌟 Advent of Code 2022"
   ]
  },
  {
   "attachments": {},
   "cell_type": "markdown",
   "metadata": {},
   "source": [
    "## [Day 9: Rope Bridge](https://adventofcode.com/2022/day/9)"
   ]
  },
  {
   "cell_type": "code",
   "execution_count": 1,
   "metadata": {},
   "outputs": [],
   "source": [
    "def parse_motions(file):\n",
    "    motions = []\n",
    "    for line in file:\n",
    "        move = line.split()\n",
    "        motions.append([move[0], int(move[1])])\n",
    "\n",
    "    return motions"
   ]
  },
  {
   "cell_type": "code",
   "execution_count": 2,
   "metadata": {},
   "outputs": [],
   "source": [
    "file = open(\"./inputs/day-09.txt\", \"r\")\n",
    "motions = parse_motions(file)"
   ]
  },
  {
   "attachments": {},
   "cell_type": "markdown",
   "metadata": {},
   "source": [
    "### Challenge 1"
   ]
  },
  {
   "cell_type": "code",
   "execution_count": 3,
   "metadata": {},
   "outputs": [
    {
     "name": "stdout",
     "output_type": "stream",
     "text": [
      "The tail of the rope visits '5683' positions at least once\n"
     ]
    }
   ],
   "source": [
    "# Challenge 1\n",
    "\n",
    "# store all visited positions in a set (removes duplicates)\n",
    "visited_positions = set()\n",
    "\n",
    "# pos[0] = x -> horizontal row\n",
    "# pos[1] = y -> vertical column\n",
    "head_pos = [0, 0]\n",
    "tail_pos = [0, 0]\n",
    "\n",
    "def tail_adjacent():\n",
    "    return (abs(head_pos[0] - tail_pos[0]) <= 1) and (abs(head_pos[1] - tail_pos[1]) <= 1)\n",
    "\n",
    "def update_tail():\n",
    "    visited_positions.add(tuple(tail_pos))\n",
    "\n",
    "    if (tail_adjacent()): return\n",
    "\n",
    "    if (head_pos[0] == tail_pos[0]): # same row\n",
    "        tail_pos[1] += 1 if head_pos[1] > tail_pos[1] else -1 # move left or right\n",
    "    elif (head_pos[1] == tail_pos[1]): # same col\n",
    "        tail_pos[0] += 1 if head_pos[0] > tail_pos[0] else -1 # move up or down\n",
    "    else: # not same row / col -> move diagonally\n",
    "        tail_pos[0] += 1 if head_pos[0] > tail_pos[0] else -1 # move up or down\n",
    "        tail_pos[1] += 1 if head_pos[1] > tail_pos[1] else -1 # move left or right\n",
    "\n",
    "    update_tail()\n",
    "\n",
    "\n",
    "for motion in motions:\n",
    "    direction, steps = motion\n",
    "\n",
    "    for i in range(steps):\n",
    "        if direction == \"U\":\n",
    "            head_pos[1] += 1\n",
    "        elif direction == \"D\":\n",
    "            head_pos[1] -= 1\n",
    "        elif direction == \"L\":\n",
    "            head_pos[0] -= 1\n",
    "        elif direction == \"R\":\n",
    "            head_pos[0] += 1\n",
    "        \n",
    "        update_tail()\n",
    "\n",
    "print(f\"The tail of the rope visits '{len(visited_positions)}' positions at least once\")"
   ]
  },
  {
   "attachments": {},
   "cell_type": "markdown",
   "metadata": {},
   "source": [
    "### Challenge 2"
   ]
  },
  {
   "cell_type": "code",
   "execution_count": 4,
   "metadata": {},
   "outputs": [
    {
     "name": "stdout",
     "output_type": "stream",
     "text": [
      "The tail of the longer rope visits '2372' positions at least once\n"
     ]
    }
   ],
   "source": [
    "# Copy & Paste from Challenge 1 with some modifications.\n",
    "\n",
    "# store all visited positions in a set (removes duplicates)\n",
    "visited_positions = set()\n",
    "\n",
    "# pos[0] = x -> horizontal row\n",
    "# pos[1] = y -> vertical column\n",
    "knots = [[0, 0] for i in range(10)]\n",
    "head = knots[0]\n",
    "\n",
    "def knot_adjacent(lead_pos, follow_pos):\n",
    "    return (abs(lead_pos[0] - follow_pos[0]) <= 1) and (abs(lead_pos[1] - follow_pos[1]) <= 1)\n",
    "\n",
    "def update_knot(lead_pos, follow_pos, is_tail):\n",
    "    if (is_tail):\n",
    "        visited_positions.add(tuple(follow_pos))\n",
    "\n",
    "    if (knot_adjacent(lead_pos, follow_pos)): return\n",
    "\n",
    "    if (lead_pos[0] == follow_pos[0]): # same row\n",
    "        follow_pos[1] += 1 if lead_pos[1] > follow_pos[1] else -1 # move left or right\n",
    "    elif (lead_pos[1] == follow_pos[1]): # same col\n",
    "        follow_pos[0] += 1 if lead_pos[0] > follow_pos[0] else -1 # move up or down\n",
    "    else: # not same row / col -> move diagonally\n",
    "        follow_pos[0] += 1 if lead_pos[0] > follow_pos[0] else -1 # move up or down\n",
    "        follow_pos[1] += 1 if lead_pos[1] > follow_pos[1] else -1 # move left or right\n",
    "\n",
    "    update_knot(lead_pos, follow_pos, is_tail)\n",
    "\n",
    "\n",
    "for motion in motions:\n",
    "    direction, steps = motion\n",
    "\n",
    "    for i in range(steps):\n",
    "        if direction == \"U\":\n",
    "            head[1] += 1\n",
    "        elif direction == \"D\":\n",
    "            head[1] -= 1\n",
    "        elif direction == \"L\":\n",
    "            head[0] -= 1\n",
    "        elif direction == \"R\":\n",
    "            head[0] += 1\n",
    "        \n",
    "        # update all knots (not including head)\n",
    "        for i in range(1, len(knots)):\n",
    "            update_knot(knots[i - 1], knots[i], i == len(knots) - 1)\n",
    "\n",
    "print(f\"The tail of the longer rope visits '{len(visited_positions)}' positions at least once\")"
   ]
  }
 ],
 "metadata": {
  "kernelspec": {
   "display_name": "Python 3.9.8 64-bit",
   "language": "python",
   "name": "python3"
  },
  "language_info": {
   "codemirror_mode": {
    "name": "ipython",
    "version": 3
   },
   "file_extension": ".py",
   "mimetype": "text/x-python",
   "name": "python",
   "nbconvert_exporter": "python",
   "pygments_lexer": "ipython3",
   "version": "3.9.8"
  },
  "orig_nbformat": 4,
  "vscode": {
   "interpreter": {
    "hash": "6c822c96e91247aa88aa050c21c3cf4338cecd35fe4765b117b1af47ffe54c4d"
   }
  }
 },
 "nbformat": 4,
 "nbformat_minor": 2
}
